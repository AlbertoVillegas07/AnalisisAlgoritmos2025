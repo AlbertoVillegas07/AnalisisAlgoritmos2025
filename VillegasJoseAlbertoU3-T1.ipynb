{
 "cells": [
  {
   "cell_type": "markdown",
   "id": "02aea50f-f034-47f8-8b2c-320595e3e819",
   "metadata": {},
   "source": [
    "# 3A. Reporte escrito. Experimentos y análisis de algoritmos de ordenamiento.\n",
    "José Alberto Villegas Díaz Disciplina"
   ]
  },
  {
   "cell_type": "markdown",
   "id": "bf08b44d",
   "metadata": {},
   "source": [
    "# Lista de cambios:\n",
    "Sin cambios. Documento original. "
   ]
  },
  {
   "cell_type": "markdown",
   "id": "0d2dc749-d594-47d1-9660-9ab08b48fce0",
   "metadata": {
    "jp-MarkdownHeadingCollapsed": true
   },
   "source": [
    "## Introducción. \n",
    "\n",
    "El ordenamiento es el proceso computacional de reorganizar una secuencia dada de elementos en orden ascendente o descendente. (Estivill-Castro & Wood, 1992).\n",
    "\n",
    "En este reporte, se implementarán y analizarán varios algoritmos clásicos de ordenamiento por comparación, a saber: Heapsort, Mergesort, Quicksort, y Bubblesort. Cada uno de estos algoritmos se caracteriza por distintas complejidades de tiempo y estrategias de partición de los datos, lo que los hace más o menos eficientes según las características del conjunto de datos a ordenar. \n",
    "\n",
    "Para hacerlo se usarán diferentes archivos proporcionados cuyos niveles de desorden son variables. Se realizará la métrica del número de comparaciones así como del tiempo necesario para ordenarlos. \n",
    "\n",
    "El análisis se llevará a cabo utilizando archivos de entrada con niveles de desorden variados, lo que permitirá observar cómo se comportan los algoritmos en distintos tipos de distribuciones de los datos. Se emplearán tres métricas principales para evaluar el desempeño de cada algoritmo: el número de comparaciones realizadas, el número de intercambio y el tiempo total de ejecución.\n"
   ]
  },
  {
   "cell_type": "markdown",
   "id": "67fc7718-44a1-4464-a4e8-69f29878b083",
   "metadata": {},
   "source": [
    "## Método heapsort."
   ]
  },
  {
   "cell_type": "markdown",
   "id": "12167841-26c0-4bfc-a774-05ab16fb2abb",
   "metadata": {},
   "source": [
    "De acuerdo con Cormen et al.(2022) Heapsort introduce el uso de una estructura de datos llamada heap (montículo), que no solo es útil para el algoritmo de ordenación. El algoritmo funciona construyendo el heap a partir de la lista y extrae repetidamente el elemento máximo (o mínimo) del montículo para construir la lista ordenada. Una de sus ventajas respecto a otros algoritmos de ordenamiento por comparación, es que realiza el mismo in situ lo que significa que solo requiere un número constante de elementos fuera del array de entrada en cualquier momento (Cormen et al. 2022).\n",
    "\n",
    "Complejidad temporal: \n",
    "\n",
    "$O(n \\log n)$ en todos los casos.\n",
    "\n",
    "Esto significa que sin importar el orden preexistente en los arreglos, su complejidad permanecerá constante."
   ]
  },
  {
   "cell_type": "code",
   "execution_count": 43,
   "id": "f41bc113-5d0c-43ee-a86c-2edbeb333d8a",
   "metadata": {},
   "outputs": [
    {
     "data": {
      "text/plain": [
       "eval_heap (generic function with 1 method)"
      ]
     },
     "execution_count": 43,
     "metadata": {},
     "output_type": "execute_result"
    }
   ],
   "source": [
    "using JSON\n",
    "using Dates\n",
    "\n",
    "# Función para ajustar el montículo (heapify) - Índices basados en 1\n",
    "function heapify!(arr, n, i, counters)\n",
    "    largest = i\n",
    "    left = 2 * i      # Hijo izquierdo (ajustado para base 1)\n",
    "    right = 2 * i + 1 # Hijo derecho (ajustado para base 1)\n",
    "\n",
    "    # Comparar con el hijo izquierdo\n",
    "    counters[:comparisons] += 1\n",
    "    if left <= n && arr[left] > arr[largest]\n",
    "        largest = left\n",
    "    end\n",
    "\n",
    "    # Comparar con el hijo derecho\n",
    "    counters[:comparisons] += 1\n",
    "    if right <= n && arr[right] > arr[largest]\n",
    "        largest = right\n",
    "    end\n",
    "\n",
    "    # Si el mayor no es la raíz, intercambiar y seguir ajustando\n",
    "    if largest != i\n",
    "        arr[i], arr[largest] = arr[largest], arr[i]\n",
    "        counters[:swaps] += 1\n",
    "        heapify!(arr, n, largest, counters)\n",
    "    end\n",
    "end\n",
    "\n",
    "# Implementación de HeapSort - Índices basados en 1\n",
    "function heapsort!(arr)\n",
    "    n = length(arr)\n",
    "    counters = Dict(:comparisons => 0, :swaps => 0)  # Contador de operaciones\n",
    "\n",
    "    # Construir el max-heap\n",
    "    for i in n ÷ 2:-1:1\n",
    "        heapify!(arr, n, i, counters)\n",
    "    end\n",
    "\n",
    "    # Extraer elementos del heap uno por uno\n",
    "    for i in n:-1:2\n",
    "        arr[1], arr[i] = arr[i], arr[1]  # Mover la raíz al final\n",
    "        counters[:swaps] += 1\n",
    "        heapify!(arr, i - 1, 1, counters)\n",
    "    end\n",
    "\n",
    "    return counters\n",
    "end\n",
    "\n",
    "# Función para cargar y ordenar el archivo JSON con múltiples claves\n",
    "function eval_heap(p::String)\n",
    "    # Construir la ruta del archivo con el argumento p\n",
    "    ruta_archivo = joinpath(homedir(),  raw\"C:\\Users\\josea\\Downloads\\listas-posteo-con-perturbaciones\", \"listas-posteo-con-perturbaciones-p=\" * p * \".json\")\n",
    "\n",
    "    # Cargar el archivo JSON\n",
    "    datos = JSON.parsefile(ruta_archivo)\n",
    "    contador = 0\n",
    "    contador2= 0\n",
    "\n",
    "    # Procesar cada clave del JSON\n",
    "    for (clave, arr) in datos\n",
    "\n",
    "        counters = heapsort!(arr)\n",
    "        contador += counters[:comparisons]\n",
    "        contador2 += counters[:swaps]\n",
    "    end\n",
    "println(\"Comparaciones: \", contador)\n",
    "println(\"Intercambios: \", contador2)\n",
    "end\n"
   ]
  },
  {
   "cell_type": "code",
   "execution_count": 43,
   "id": "ffb46492-c74a-43b2-a23c-2dce82b93059",
   "metadata": {},
   "outputs": [
    {
     "data": {
      "text/plain": [
       "eval_heap (generic function with 1 method)"
      ]
     },
     "execution_count": 43,
     "metadata": {},
     "output_type": "execute_result"
    }
   ],
   "source": [
    "using JSON\n",
    "using Dates\n",
    "\n",
    "# Función para ajustar el montículo (heapify) - Índices basados en 1\n",
    "function heapify!(arr, n, i, counters)\n",
    "    largest = i\n",
    "    left = 2 * i      # Hijo izquierdo (ajustado para base 1)\n",
    "    right = 2 * i + 1 # Hijo derecho (ajustado para base 1)\n",
    "\n",
    "    # Comparar con el hijo izquierdo\n",
    "    counters[:comparisons] += 1\n",
    "    if left <= n && arr[left] > arr[largest]\n",
    "        largest = left\n",
    "    end\n",
    "\n",
    "    # Comparar con el hijo derecho\n",
    "    counters[:comparisons] += 1\n",
    "    if right <= n && arr[right] > arr[largest]\n",
    "        largest = right\n",
    "    end\n",
    "\n",
    "    # Si el mayor no es la raíz, intercambiar y seguir ajustando\n",
    "    if largest != i\n",
    "        arr[i], arr[largest] = arr[largest], arr[i]\n",
    "        counters[:swaps] += 1\n",
    "        heapify!(arr, n, largest, counters)\n",
    "    end\n",
    "end\n",
    "\n",
    "# Implementación de HeapSort - Índices basados en 1\n",
    "function heapsort!(arr)\n",
    "    n = length(arr)\n",
    "    counters = Dict(:comparisons => 0, :swaps => 0)  # Contador de operaciones\n",
    "\n",
    "    # Construir el max-heap\n",
    "    for i in n ÷ 2:-1:1\n",
    "        heapify!(arr, n, i, counters)\n",
    "    end\n",
    "\n",
    "    # Extraer elementos del heap uno por uno\n",
    "    for i in n:-1:2\n",
    "        arr[1], arr[i] = arr[i], arr[1]  # Mover la raíz al final\n",
    "        counters[:swaps] += 1\n",
    "        heapify!(arr, i - 1, 1, counters)\n",
    "    end\n",
    "\n",
    "    return counters\n",
    "end\n",
    "\n",
    "# Función para cargar y ordenar el archivo JSON con múltiples claves\n",
    "function eval_heap(p::String)\n",
    "    # Construir la ruta del archivo con el argumento p\n",
    "    ruta_archivo = joinpath(homedir(),  raw\"C:\\Users\\josea\\Downloads\\listas-posteo-con-perturbaciones\", \"listas-posteo-con-perturbaciones-p=\" * p * \".json\")\n",
    "\n",
    "    # Cargar el archivo JSON\n",
    "    datos = JSON.parsefile(ruta_archivo)\n",
    "    contador = 0\n",
    "    contador2= 0\n",
    "\n",
    "    # Procesar cada clave del JSON\n",
    "    for (clave, arr) in datos\n",
    "\n",
    "        counters = heapsort!(arr)\n",
    "        contador += counters[:comparisons]\n",
    "        contador2 += counters[:swaps]\n",
    "    end\n",
    "println(\"Comparaciones: \", contador)\n",
    "println(\"Intercambios: \", contador2)\n",
    "end\n"
   ]
  },
  {
   "cell_type": "code",
   "execution_count": 12,
   "id": "67f9ba85-ff46-464a-9a59-4603c285aafa",
   "metadata": {},
   "outputs": [
    {
     "name": "stdout",
     "output_type": "stream",
     "text": [
      "Comparaciones: 4830498\n",
      "Intercambios: 2319348\n",
      "  0.487989 seconds (254.80 k allocations: 10.922 MiB, 29.39% gc time, 23.16% compilation time)\n",
      "Comparaciones: 4830498\n",
      "Intercambios: 2319348\n",
      "  0.207115 seconds (191.69 k allocations: 7.581 MiB, 5.55% gc time)\n"
     ]
    }
   ],
   "source": [
    "# Ejecutar el programa para p=016\n",
    "\n",
    "@time begin\n",
    "    eval_heap(\"016\")\n",
    "end\n",
    "# Se ejecuta dos veces para no considerar el tiempo de compilación \n",
    "@time begin\n",
    "    eval_heap(\"016\")\n",
    "end"
   ]
  },
  {
   "cell_type": "code",
   "execution_count": 13,
   "id": "915e80ef-9429-4919-8c96-b13b0f7d8131",
   "metadata": {},
   "outputs": [
    {
     "name": "stdout",
     "output_type": "stream",
     "text": [
      "Comparaciones: 4826432\n",
      "Intercambios: 2317315\n",
      "  0.181611 seconds (191.68 k allocations: 7.581 MiB)\n",
      "Comparaciones: 4826432\n",
      "Intercambios: 2317315\n",
      "  0.245424 seconds (191.68 k allocations: 7.581 MiB, 1.72% gc time)\n"
     ]
    }
   ],
   "source": [
    "# Ejecutar el programa para p=032\n",
    "\n",
    "@time begin\n",
    "    eval_heap(\"032\")\n",
    "end\n",
    "# Se ejecuta dos veces para no considerar el tiempo de compilación \n",
    "@time begin\n",
    "    eval_heap(\"032\")\n",
    "end"
   ]
  },
  {
   "cell_type": "code",
   "execution_count": 14,
   "id": "170b7c8a-fa6e-400f-837b-d6b1ee77fdd4",
   "metadata": {},
   "outputs": [
    {
     "name": "stdout",
     "output_type": "stream",
     "text": [
      "Comparaciones: 4820024\n",
      "Intercambios: 2314111\n",
      "  0.214752 seconds (191.55 k allocations: 7.572 MiB, 2.19% gc time)\n",
      "Comparaciones: 4820024\n",
      "Intercambios: 2314111\n",
      "  0.213742 seconds (191.67 k allocations: 7.580 MiB, 0.48% gc time)\n"
     ]
    }
   ],
   "source": [
    "# Ejecutar el programa para p=064\n",
    "\n",
    "@time begin\n",
    "    eval_heap(\"064\")\n",
    "end\n",
    "# Se ejecuta dos veces para no considerar el tiempo de compilación \n",
    "@time begin\n",
    "    eval_heap(\"064\")\n",
    "end"
   ]
  },
  {
   "cell_type": "code",
   "execution_count": 15,
   "id": "94171455-bcaa-4597-b13a-269a2e9edd0f",
   "metadata": {},
   "outputs": [
    {
     "name": "stdout",
     "output_type": "stream",
     "text": [
      "Comparaciones: 4805308\n",
      "Intercambios: 2306753\n",
      "  0.194435 seconds (191.55 k allocations: 7.572 MiB, 0.76% gc time)\n",
      "Comparaciones: 4805308\n",
      "Intercambios: 2306753\n",
      "  0.180788 seconds (191.67 k allocations: 7.581 MiB, 0.63% gc time)\n"
     ]
    }
   ],
   "source": [
    "# Ejecutar el programa para p=128\n",
    "\n",
    "@time begin\n",
    "    eval_heap(\"128\")\n",
    "end\n",
    "# Se ejecuta dos veces para no considerar el tiempo de compilación \n",
    "@time begin\n",
    "    eval_heap(\"128\")\n",
    "end"
   ]
  },
  {
   "cell_type": "code",
   "execution_count": 16,
   "id": "dc23d768-723f-45c6-9e50-82cd00474f2c",
   "metadata": {},
   "outputs": [
    {
     "name": "stdout",
     "output_type": "stream",
     "text": [
      "Comparaciones: 4783464\n",
      "Intercambios: 2295831\n",
      "  0.181757 seconds (191.56 k allocations: 7.572 MiB, 0.87% gc time)\n",
      "Comparaciones: 4783464\n",
      "Intercambios: 2295831\n",
      "  0.176678 seconds (191.68 k allocations: 7.581 MiB, 0.79% gc time)\n"
     ]
    }
   ],
   "source": [
    "# Ejecutar el programa para p=256\n",
    "\n",
    "@time begin\n",
    "    eval_heap(\"256\")\n",
    "end\n",
    "# Se ejecuta dos veces para no considerar el tiempo de compilación \n",
    "@time begin\n",
    "    eval_heap(\"256\")\n",
    "end"
   ]
  },
  {
   "cell_type": "code",
   "execution_count": 17,
   "id": "4b1928a5-df1e-4c81-a1b9-d4b311bb66fa",
   "metadata": {},
   "outputs": [
    {
     "name": "stdout",
     "output_type": "stream",
     "text": [
      "Comparaciones: 4752240\n",
      "Intercambios: 2280219\n",
      "  0.182473 seconds (191.55 k allocations: 7.572 MiB, 0.80% gc time)\n",
      "Comparaciones: 4752240\n",
      "Intercambios: 2280219\n",
      "  0.182040 seconds (191.67 k allocations: 7.580 MiB, 0.72% gc time)\n"
     ]
    }
   ],
   "source": [
    "# Ejecutar el programa para p=512\n",
    "\n",
    "@time begin\n",
    "    eval_heap(\"512\")\n",
    "end\n",
    "# Se ejecuta dos veces para no considerar el tiempo de compilación \n",
    "@time begin\n",
    "    eval_heap(\"512\")\n",
    "end"
   ]
  },
  {
   "cell_type": "markdown",
   "id": "3f708afd-a661-4404-8dea-76ee61d81f65",
   "metadata": {},
   "source": [
    "## Mergesort"
   ]
  },
  {
   "cell_type": "markdown",
   "id": "a1187ad3-4d5a-4bcb-81cc-1dde58f97876",
   "metadata": {},
   "source": [
    "El algoritmo Mergesort se basa en una operación simple llamada mezcla (merging), que consiste en combinar dos arreglos ordenados para formar un único arreglo ordenado. Este proceso da lugar a un método recursivo sencillo: para ordenar un arreglo, se divide en dos mitades, se ordenan recursivamente ambas mitades y luego se combinan los resultados mediante la operación de mezcla (Sedgewick & Wayne, 2011). Uno de los principales atractivos de Mergesort es que garantiza ordenar cualquier arreglo de $n$ elementos en un tiempo proporcional a $O(n \\log n)$ Sin embargo, su desventaja principal es que requiere espacio adicional proporcional a $n$ (Sedgewick & Wayne, 2011).\n",
    "\n",
    "Complejidad temporal: \n",
    "\n",
    "$O(n \\log n)$ en todos los casos.\n"
   ]
  },
  {
   "cell_type": "code",
   "execution_count": 18,
   "id": "1128cff8-7621-438d-be1f-6ab67ae241ff",
   "metadata": {},
   "outputs": [
    {
     "data": {
      "text/plain": [
       "eval_merge (generic function with 1 method)"
      ]
     },
     "execution_count": 18,
     "metadata": {},
     "output_type": "execute_result"
    }
   ],
   "source": [
    "using JSON\n",
    "using Dates\n",
    "\n",
    "# Función para combinar dos subarreglos ordenados\n",
    "function merge!(arr, left, mid, right, counters)\n",
    "    # Tamaños de los subarreglos\n",
    "    n1 = mid - left + 1\n",
    "    n2 = right - mid\n",
    "\n",
    "    # Crear arreglos temporales\n",
    "    L = copy(arr[left:left+n1-1])\n",
    "    R = copy(arr[mid+1:mid+n2])\n",
    "\n",
    "    i = 1  # Índice para L\n",
    "    j = 1  # Índice para R\n",
    "    k = left  # Índice para arr\n",
    "\n",
    "    # Combinar los subarreglos\n",
    "    while i <= n1 && j <= n2\n",
    "        counters[:comparisons] += 1\n",
    "        if L[i] <= R[j]\n",
    "            arr[k] = L[i]\n",
    "            i += 1\n",
    "        else\n",
    "            arr[k] = R[j]\n",
    "            j += 1\n",
    "        end\n",
    "        counters[:movements] += 1\n",
    "        k += 1\n",
    "    end\n",
    "\n",
    "    # Copiar elementos restantes de L, si los hay\n",
    "    while i <= n1\n",
    "        arr[k] = L[i]\n",
    "        counters[:movements] += 1\n",
    "        i += 1\n",
    "        k += 1\n",
    "    end\n",
    "\n",
    "    # Copiar elementos restantes de R, si los hay\n",
    "    while j <= n2\n",
    "        arr[k] = R[j]\n",
    "        counters[:movements] += 1\n",
    "        j += 1\n",
    "        k += 1\n",
    "    end\n",
    "end\n",
    "\n",
    "# Implementación de MergeSort\n",
    "function mergesort!(arr, left, right, counters)\n",
    "    if left < right\n",
    "        mid = (left + right) ÷ 2\n",
    "        mergesort!(arr, left, mid, counters)\n",
    "        mergesort!(arr, mid + 1, right, counters)\n",
    "        merge!(arr, left, mid, right, counters)\n",
    "    end\n",
    "end\n",
    "\n",
    "# Wrapper para inicializar MergeSort con contadores\n",
    "function mergesort_wrapper!(arr)\n",
    "    counters = Dict(:comparisons => 0, :movements => 0)\n",
    "    mergesort!(arr, 1, length(arr), counters)\n",
    "    return counters\n",
    "end\n",
    "\n",
    "# Cargar y ordenar el archivo JSON con múltiples claves\n",
    "function eval_merge(p::String)\n",
    "    # Construir la ruta del archivo con el argumento p\n",
    "    ruta_archivo = joinpath(homedir(),  raw\"C:\\Users\\josea\\Downloads\\listas-posteo-con-perturbaciones\", \"listas-posteo-con-perturbaciones-p=\" * p * \".json\")\n",
    "\n",
    "    # Cargar el archivo JSON\n",
    "    datos = JSON.parsefile(ruta_archivo)\n",
    "    contador = 0\n",
    "    contador2= 0\n",
    "\n",
    "    # Procesar cada clave del JSON\n",
    "    for (clave, arr) in datos\n",
    "\n",
    "        counters = mergesort_wrapper!(arr)\n",
    "        contador += counters[:comparisons]\n",
    "        contador2 += counters[:movements]\n",
    "    end\n",
    "println(\"Comparaciones: \", contador)\n",
    "println(\"Intercambios: \", contador2)\n",
    "end"
   ]
  },
  {
   "cell_type": "code",
   "execution_count": 19,
   "id": "90311331-d1e4-48ae-b739-6299904cfdbf",
   "metadata": {},
   "outputs": [
    {
     "name": "stdout",
     "output_type": "stream",
     "text": [
      "Comparaciones: 1572444\n",
      "Intercambios: 2367713\n",
      "  0.232683 seconds (1.39 M allocations: 77.256 MiB, 12.19% gc time, 26.26% compilation time)\n",
      "Comparaciones: 1572444\n",
      "Intercambios: 2367713\n",
      "  0.442377 seconds (1.34 M allocations: 75.157 MiB, 69.89% gc time)\n"
     ]
    }
   ],
   "source": [
    "# Ejecutar el programa para p=016\n",
    "\n",
    "@time begin\n",
    "    eval_merge(\"016\")\n",
    "end\n",
    "# Se ejecuta dos veces para no considerar el tiempo de compilación \n",
    "@time begin\n",
    "    eval_merge(\"016\")\n",
    "end"
   ]
  },
  {
   "cell_type": "code",
   "execution_count": 20,
   "id": "77edcef7-cd92-482e-b894-64b7a63fdf0a",
   "metadata": {},
   "outputs": [
    {
     "name": "stdout",
     "output_type": "stream",
     "text": [
      "Comparaciones: 1669236\n",
      "Intercambios: 2367713\n",
      "  0.169852 seconds (1.34 M allocations: 75.146 MiB, 14.78% gc time)\n",
      "Comparaciones: 1669236\n",
      "Intercambios: 2367713\n",
      "  0.184990 seconds (1.34 M allocations: 75.156 MiB, 10.29% gc time)\n"
     ]
    }
   ],
   "source": [
    "# Ejecutar el programa para p=032\n",
    "\n",
    "@time begin\n",
    "    eval_merge(\"032\")\n",
    "end\n",
    "# Se ejecuta dos veces para no considerar el tiempo de compilación \n",
    "@time begin\n",
    "    eval_merge(\"032\")\n",
    "end"
   ]
  },
  {
   "cell_type": "code",
   "execution_count": 21,
   "id": "53e305b0-8b66-4626-91c1-efb129c2bab8",
   "metadata": {},
   "outputs": [
    {
     "name": "stdout",
     "output_type": "stream",
     "text": [
      "Comparaciones: 1755354\n",
      "Intercambios: 2367713\n",
      "  0.188880 seconds (1.34 M allocations: 75.146 MiB, 23.22% gc time)\n",
      "Comparaciones: 1755354\n",
      "Intercambios: 2367713\n",
      "  0.259645 seconds (1.34 M allocations: 75.155 MiB, 40.08% gc time)\n"
     ]
    }
   ],
   "source": [
    "# Ejecutar el programa para p=064\n",
    "\n",
    "@time begin\n",
    "    eval_merge(\"064\")\n",
    "end\n",
    "# Se ejecuta dos veces para no considerar el tiempo de compilación \n",
    "@time begin\n",
    "    eval_merge(\"064\")\n",
    "end"
   ]
  },
  {
   "cell_type": "code",
   "execution_count": 22,
   "id": "c9d4d1fa-f1a5-4498-861b-7f62f0d11bd3",
   "metadata": {},
   "outputs": [
    {
     "name": "stdout",
     "output_type": "stream",
     "text": [
      "Comparaciones: 1844035\n",
      "Intercambios: 2367713\n",
      "  0.169888 seconds (1.34 M allocations: 75.146 MiB, 12.87% gc time)\n",
      "Comparaciones: 1844035\n",
      "Intercambios: 2367713\n",
      "  0.193641 seconds (1.34 M allocations: 75.155 MiB, 24.28% gc time)\n"
     ]
    }
   ],
   "source": [
    "# Ejecutar el programa para p=128\n",
    "\n",
    "@time begin\n",
    "    eval_merge(\"128\")\n",
    "end\n",
    "# Se ejecuta dos veces para no considerar el tiempo de compilación \n",
    "@time begin\n",
    "    eval_merge(\"128\")\n",
    "end"
   ]
  },
  {
   "cell_type": "code",
   "execution_count": 23,
   "id": "80cc4702-cfe2-4d5d-8804-61eb812be2ee",
   "metadata": {},
   "outputs": [
    {
     "name": "stdout",
     "output_type": "stream",
     "text": [
      "Comparaciones: 1915028\n",
      "Intercambios: 2367713\n",
      "  0.281777 seconds (1.34 M allocations: 75.146 MiB, 41.46% gc time)\n",
      "Comparaciones: 1915028\n",
      "Intercambios: 2367713\n",
      "  0.174015 seconds (1.34 M allocations: 75.155 MiB, 14.61% gc time)\n"
     ]
    }
   ],
   "source": [
    "# Ejecutar el programa para p=256\n",
    "\n",
    "@time begin\n",
    "    eval_merge(\"256\")\n",
    "end\n",
    "# Se ejecuta dos veces para no considerar el tiempo de compilación \n",
    "@time begin\n",
    "    eval_merge(\"256\")\n",
    "end"
   ]
  },
  {
   "cell_type": "code",
   "execution_count": 24,
   "id": "d2c3a03a-cd80-4720-b4a9-271161a4302b",
   "metadata": {},
   "outputs": [
    {
     "name": "stdout",
     "output_type": "stream",
     "text": [
      "Comparaciones: 1975697\n",
      "Intercambios: 2367713\n",
      "  0.208104 seconds (1.34 M allocations: 75.146 MiB, 24.63% gc time)\n",
      "Comparaciones: 1975697\n",
      "Intercambios: 2367713\n",
      "  0.261640 seconds (1.34 M allocations: 75.155 MiB, 40.85% gc time)\n"
     ]
    }
   ],
   "source": [
    "# Ejecutar el programa para p=512\n",
    "\n",
    "@time begin\n",
    "    eval_merge(\"512\")\n",
    "end\n",
    "# Se ejecuta dos veces para no considerar el tiempo de compilación \n",
    "@time begin\n",
    "    eval_merge(\"512\")\n",
    "end"
   ]
  },
  {
   "cell_type": "markdown",
   "id": "c0eb6e2d-4f48-466a-a21c-308123129419",
   "metadata": {},
   "source": [
    "## Quicksort"
   ]
  },
  {
   "cell_type": "markdown",
   "id": "2381a808-4f28-4e07-af15-0e1fa59d362c",
   "metadata": {},
   "source": [
    "Quicksort es un algoritmo de ordenación ampliamente utilizado que, a pesar de tener un tiempo de ejecución en el peor caso de $O(n^2)$ para un array de n elementos, es una de las opciones más eficientes en la práctica. Esto se debe a que su tiempo de ejecución promedio es $O(n \\log n)$, con constantes ocultas en la notación $O(n \\log n)$ muy pequeñas, lo que lo hace extremadamente rápido en la mayoría de los casos (Cormen et al. 2022). Además, Quicksort tiene la ventaja de ser un algoritmo in situ, es decir, ordena los elementos directamente en el array original sin requerir espacio adicional significativo. Esta característica lo hace especialmente adecuado para entornos de memoria virtual\n",
    "Funcionamiento (Cormen et al. 2022). Al igual que Mergesort, también utiliza un enfoque \"divide y vencerás\". Selecciona un elemento pivote y reorganiza la lista de manera que los elementos menores que el pivote estén a su izquierda y los mayores a su derecha. Luego, repite el proceso recursivamente para las sublistas (Cormen et al. 2022).\n",
    "\n",
    "Aunque Quicksort no es adaptativo por diseño (es decir, no aprovecha el orden existente en la entrada), se han desarrollado versiones adaptativas de Quicksort, como CKsort, que utiliza una técnica de división específica (Cook-Kim division) para mejorar su rendimiento en secuencias casi ordenadas(Estivill-Castro & Wood, 1992).\n",
    "\n",
    "Complejidad temporal:\n",
    "\n",
    "Peor caso: \n",
    "\n",
    "$O(n^2)$ ( depende del pivote)\n",
    "\n",
    "Caso promedio: \n",
    "\n",
    "$O(n \\log n)$"
   ]
  },
  {
   "cell_type": "code",
   "execution_count": 25,
   "id": "a92ce271-75df-46d6-9754-4619da857a00",
   "metadata": {
    "scrolled": true
   },
   "outputs": [
    {
     "data": {
      "text/plain": [
       "eval_quick (generic function with 1 method)"
      ]
     },
     "execution_count": 25,
     "metadata": {},
     "output_type": "execute_result"
    }
   ],
   "source": [
    "using JSON\n",
    "using Dates\n",
    "\n",
    "# Función para particionar el arreglo usando el último elemento como pivote\n",
    "function partition!(arr, low, high, counters)\n",
    "    pivot = arr[high]\n",
    "    i = low - 1  # Índice del elemento menor\n",
    "\n",
    "    for j in low:high-1\n",
    "        counters[:comparisons] += 1\n",
    "        if arr[j] <= pivot\n",
    "            i += 1\n",
    "            arr[i], arr[j] = arr[j], arr[i]\n",
    "            counters[:swaps] += 1\n",
    "        end\n",
    "    end\n",
    "\n",
    "    # Colocar el pivote en su posición correcta\n",
    "    arr[i + 1], arr[high] = arr[high], arr[i + 1]\n",
    "    counters[:swaps] += 1\n",
    "    return i + 1\n",
    "end\n",
    "\n",
    "# Implementación de QuickSort\n",
    "function quicksort!(arr, low, high, counters)\n",
    "    if low < high\n",
    "        # Obtener el índice de partición\n",
    "        pi = partition!(arr, low, high, counters)\n",
    "        \n",
    "        # Ordenar las particiones recursivamente\n",
    "        quicksort!(arr, low, pi - 1, counters)\n",
    "        quicksort!(arr, pi + 1, high, counters)\n",
    "    end\n",
    "end\n",
    "\n",
    "# Wrapper para inicializar QuickSort con contadores\n",
    "function quicksort_wrapper!(arr)\n",
    "    counters = Dict(:comparisons => 0, :swaps => 0)\n",
    "    quicksort!(arr, 1, length(arr), counters)\n",
    "    return counters\n",
    "end\n",
    "\n",
    "# Cargar y ordenar el archivo JSON con múltiples claves\n",
    "function eval_quick(p::String)\n",
    "    # Construir la ruta del archivo con el argumento p\n",
    "    ruta_archivo = joinpath(homedir(),  raw\"C:\\Users\\josea\\Downloads\\listas-posteo-con-perturbaciones\", \"listas-posteo-con-perturbaciones-p=\" * p * \".json\")\n",
    "\n",
    "    # Cargar el archivo JSON\n",
    "    datos = JSON.parsefile(ruta_archivo)\n",
    "    contador = 0\n",
    "    contador2= 0\n",
    "\n",
    "    # Procesar cada clave del JSON\n",
    "    for (clave, arr) in datos\n",
    "\n",
    "        counters = quicksort_wrapper!(arr)\n",
    "        contador += counters[:comparisons]\n",
    "        contador2 += counters[:swaps]\n",
    "    end\n",
    "println(\"Comparaciones: \", contador)\n",
    "println(\"Intercambios: \", contador2)\n",
    "end\n"
   ]
  },
  {
   "cell_type": "code",
   "execution_count": 26,
   "id": "84640f0b-aa8d-4290-b9b8-45883e1f369b",
   "metadata": {},
   "outputs": [
    {
     "name": "stdout",
     "output_type": "stream",
     "text": [
      "Comparaciones: 238991206\n",
      "Intercambios: 132394039\n",
      "  8.545927 seconds (219.99 k allocations: 8.957 MiB, 0.11% gc time, 0.43% compilation time)\n",
      "Comparaciones: 238991206\n",
      "Intercambios: 132394039\n",
      "  8.226709 seconds (191.67 k allocations: 7.581 MiB, 0.07% gc time)\n"
     ]
    }
   ],
   "source": [
    "# Ejecutar el programa para p=016\n",
    "\n",
    "@time begin\n",
    "    eval_quick(\"016\")\n",
    "end\n",
    "# Se ejecuta dos veces para no considerar el tiempo de compilación \n",
    "@time begin\n",
    "    eval_quick(\"016\")\n",
    "end"
   ]
  },
  {
   "cell_type": "code",
   "execution_count": 42,
   "id": "6520077f-bad0-4621-94b9-0e549346e333",
   "metadata": {},
   "outputs": [
    {
     "name": "stdout",
     "output_type": "stream",
     "text": [
      "Comparaciones: 155831691\n",
      "Intercambios: 109338692\n",
      "  5.753984 seconds (191.55 k allocations: 7.572 MiB, 0.09% gc time)\n",
      "Comparaciones: 155831691\n",
      "Intercambios: 109338692\n",
      "  5.646577 seconds (191.67 k allocations: 7.581 MiB, 0.01% gc time)\n"
     ]
    }
   ],
   "source": [
    "# Ejecutar el programa para p=032\n",
    "\n",
    "@time begin\n",
    "    eval_quick(\"032\")\n",
    "end\n",
    "# Se ejecuta dos veces para no considerar el tiempo de compilación \n",
    "@time begin\n",
    "    eval_quick(\"032\")\n",
    "end"
   ]
  },
  {
   "cell_type": "code",
   "execution_count": 28,
   "id": "fcd1b65d-b2a2-429b-a43d-84e892c0a962",
   "metadata": {},
   "outputs": [
    {
     "name": "stdout",
     "output_type": "stream",
     "text": [
      "Comparaciones: 100831274\n",
      "Intercambios: 78513669\n",
      "  3.923298 seconds (191.56 k allocations: 7.572 MiB, 2.24% gc time)\n",
      "Comparaciones: 100831274\n",
      "Intercambios: 78513669\n",
      "  3.760600 seconds (191.68 k allocations: 7.581 MiB)\n"
     ]
    }
   ],
   "source": [
    "# Ejecutar el programa para p=064\n",
    "\n",
    "@time begin\n",
    "    eval_quick(\"064\")\n",
    "end\n",
    "# Se ejecuta dos veces para no considerar el tiempo de compilación \n",
    "@time begin\n",
    "    eval_quick(\"064\")\n",
    "end"
   ]
  },
  {
   "cell_type": "code",
   "execution_count": 29,
   "id": "428038f3-a37c-4d54-9919-e2d9252f550e",
   "metadata": {},
   "outputs": [
    {
     "name": "stdout",
     "output_type": "stream",
     "text": [
      "Comparaciones: 28777425\n",
      "Intercambios: 16890882\n",
      "  1.128812 seconds (191.55 k allocations: 7.572 MiB, 0.28% gc time)\n",
      "Comparaciones: 28777425\n",
      "Intercambios: 16890882\n",
      "  1.055082 seconds (191.68 k allocations: 7.581 MiB, 0.42% gc time)\n"
     ]
    }
   ],
   "source": [
    "# Ejecutar el programa para p=128\n",
    "\n",
    "@time begin\n",
    "    eval_quick(\"128\")\n",
    "end\n",
    "# Se ejecuta dos veces para no considerar el tiempo de compilación \n",
    "@time begin\n",
    "    eval_quick(\"128\")\n",
    "end"
   ]
  },
  {
   "cell_type": "code",
   "execution_count": 30,
   "id": "e537229b-d7e8-47cb-9250-42533fcb9714",
   "metadata": {},
   "outputs": [
    {
     "name": "stdout",
     "output_type": "stream",
     "text": [
      "Comparaciones: 18675607\n",
      "Intercambios: 6596669\n",
      "  0.638336 seconds (191.68 k allocations: 7.580 MiB)\n",
      "Comparaciones: 18675607\n",
      "Intercambios: 6596669\n",
      "  0.625922 seconds (191.67 k allocations: 7.581 MiB, 0.29% gc time)\n"
     ]
    }
   ],
   "source": [
    "# Ejecutar el programa para p=256\n",
    "\n",
    "@time begin\n",
    "    eval_quick(\"256\")\n",
    "end\n",
    "# Se ejecuta dos veces para no considerar el tiempo de compilación \n",
    "@time begin\n",
    "    eval_quick(\"256\")\n",
    "end"
   ]
  },
  {
   "cell_type": "code",
   "execution_count": 31,
   "id": "7053396f-3811-49eb-a060-b4700e3f096c",
   "metadata": {},
   "outputs": [
    {
     "name": "stdout",
     "output_type": "stream",
     "text": [
      "Comparaciones: 11725369\n",
      "Intercambios: 7020554\n",
      "  0.445251 seconds (191.55 k allocations: 7.572 MiB, 0.18% gc time)\n",
      "Comparaciones: 11725369\n",
      "Intercambios: 7020554\n",
      "  0.461213 seconds (191.68 k allocations: 7.581 MiB, 0.42% gc time)\n"
     ]
    }
   ],
   "source": [
    "# Ejecutar el programa para p=512\n",
    "\n",
    "@time begin\n",
    "    eval_quick(\"512\")\n",
    "end\n",
    "# Se ejecuta dos veces para no considerar el tiempo de compilación \n",
    "@time begin\n",
    "    eval_quick(\"512\")\n",
    "end"
   ]
  },
  {
   "cell_type": "markdown",
   "id": "415ca175-8b8e-4a5c-bba3-4cb87f50d2f5",
   "metadata": {},
   "source": [
    "## Bubblesort"
   ]
  },
  {
   "cell_type": "markdown",
   "id": "a19eac1b-9a19-4de9-86f6-07b1a92ba388",
   "metadata": {},
   "source": [
    "Funcionamiento: Compara pares de elementos adyacentes y los intercambia si están en el orden incorrecto. Este proceso se repite hasta que no se necesiten más intercambios. Es un algortimo adaptativo ya que es sensible al orden preexistente del arreglo. \n",
    "\n",
    "Complejidad temporal:\n",
    "\n",
    "Peor caso: \n",
    "\n",
    "$O(n^2)$ \n",
    "\n",
    "Mejor caso: \n",
    "\n",
    "$O(n)$ (si la lista ya está ordenada)"
   ]
  },
  {
   "cell_type": "code",
   "execution_count": 32,
   "id": "1c6d273d-4a84-41a6-a5d9-1d639597f978",
   "metadata": {},
   "outputs": [
    {
     "data": {
      "text/plain": [
       "eval_bubble (generic function with 1 method)"
      ]
     },
     "execution_count": 32,
     "metadata": {},
     "output_type": "execute_result"
    }
   ],
   "source": [
    "using JSON\n",
    "using Dates\n",
    "\n",
    "# Implementación de BubbleSort\n",
    "function bubblesort!(arr)\n",
    "    n = length(arr)\n",
    "    counters = Dict(:comparisons => 0, :swaps => 0)  # Contador de operaciones\n",
    "    swapped = false\n",
    "\n",
    "    for i in 1:n-1\n",
    "        swapped = false\n",
    "        for j in 1:n-i\n",
    "            counters[:comparisons] += 1\n",
    "            if arr[j] > arr[j+1]\n",
    "                arr[j], arr[j+1] = arr[j+1], arr[j]\n",
    "                counters[:swaps] += 1\n",
    "                swapped = true\n",
    "            end\n",
    "        end\n",
    "        # Si no hubo intercambios en esta pasada, el arreglo ya está ordenado\n",
    "        if !swapped\n",
    "            break\n",
    "        end\n",
    "    end\n",
    "\n",
    "    return counters\n",
    "end\n",
    "\n",
    "# Cargar y ordenar el archivo JSON con múltiples claves\n",
    "function eval_bubble(p::String)\n",
    "    # Construir la ruta del archivo con el argumento p\n",
    "    ruta_archivo = joinpath(homedir(),  raw\"C:\\Users\\josea\\Downloads\\listas-posteo-con-perturbaciones\", \"listas-posteo-con-perturbaciones-p=\" * p * \".json\")\n",
    "\n",
    "    # Cargar el archivo JSON\n",
    "    datos = JSON.parsefile(ruta_archivo)\n",
    "    contador = 0\n",
    "    contador2= 0\n",
    "\n",
    "    # Procesar cada clave del JSON\n",
    "    for (clave, arr) in datos\n",
    "\n",
    "        counters = bubblesort!(arr)\n",
    "        contador += counters[:comparisons]\n",
    "        contador2 += counters[:swaps]\n",
    "    end\n",
    "println(\"Comparaciones: \", contador)\n",
    "println(\"Intercambios: \", contador2)\n",
    "end"
   ]
  },
  {
   "cell_type": "code",
   "execution_count": 33,
   "id": "21773138-ac81-48d2-b89f-8d626a2dc7da",
   "metadata": {},
   "outputs": [
    {
     "name": "stdout",
     "output_type": "stream",
     "text": [
      "Comparaciones: 1239423690\n",
      "Intercambios: 1951394\n",
      " 35.737679 seconds (217.12 k allocations: 8.829 MiB, 0.01% gc time, 0.08% compilation time)\n",
      "Comparaciones: 1239423690\n",
      "Intercambios: 1951394\n",
      " 35.802825 seconds (191.68 k allocations: 7.581 MiB, 0.02% gc time)\n"
     ]
    }
   ],
   "source": [
    "# Ejecutar el programa para p=016\n",
    "\n",
    "@time begin\n",
    "    eval_bubble(\"016\")\n",
    "end\n",
    "# Se ejecuta dos veces para no considerar el tiempo de compilación \n",
    "@time begin\n",
    "    eval_bubble(\"016\")\n",
    "end"
   ]
  },
  {
   "cell_type": "code",
   "execution_count": 34,
   "id": "2453db00-58e1-49f7-bbdd-82b1922e53f1",
   "metadata": {},
   "outputs": [
    {
     "name": "stdout",
     "output_type": "stream",
     "text": [
      "Comparaciones: 1230370900\n",
      "Intercambios: 4024541\n",
      " 35.331065 seconds (191.56 k allocations: 7.572 MiB, 0.02% gc time)\n",
      "Comparaciones: 1230370900\n",
      "Intercambios: 4024541\n",
      " 34.921086 seconds (191.69 k allocations: 7.581 MiB, 0.00% gc time)\n"
     ]
    }
   ],
   "source": [
    "# Ejecutar el programa para p=032\n",
    "\n",
    "@time begin\n",
    "    eval_bubble(\"032\")\n",
    "end\n",
    "# Se ejecuta dos veces para no considerar el tiempo de compilación \n",
    "@time begin\n",
    "    eval_bubble(\"032\")\n",
    "end"
   ]
  },
  {
   "cell_type": "code",
   "execution_count": 35,
   "id": "17fe397d-b015-4784-bf3f-96bc570a643b",
   "metadata": {},
   "outputs": [
    {
     "name": "stdout",
     "output_type": "stream",
     "text": [
      "Comparaciones: 1290738623\n",
      "Intercambios: 7686291\n",
      " 36.387142 seconds (191.56 k allocations: 7.572 MiB, 0.00% gc time)\n",
      "Comparaciones: 1290738623\n",
      "Intercambios: 7686291\n",
      " 40.992388 seconds (191.68 k allocations: 7.581 MiB, 0.00% gc time)\n"
     ]
    }
   ],
   "source": [
    "# Ejecutar el programa para p=064\n",
    "\n",
    "@time begin\n",
    "    eval_bubble(\"064\")\n",
    "end\n",
    "# Se ejecuta dos veces para no considerar el tiempo de compilación \n",
    "@time begin\n",
    "    eval_bubble(\"064\")\n",
    "end"
   ]
  },
  {
   "cell_type": "code",
   "execution_count": 36,
   "id": "796c606b-3084-4818-a1a6-388754efa76d",
   "metadata": {},
   "outputs": [
    {
     "name": "stdout",
     "output_type": "stream",
     "text": [
      "Comparaciones: 1302028794\n",
      "Intercambios: 14702835\n",
      " 37.817800 seconds (191.56 k allocations: 7.572 MiB, 0.00% gc time)\n",
      "Comparaciones: 1302028794\n",
      "Intercambios: 14702835\n",
      " 37.637456 seconds (191.68 k allocations: 7.581 MiB, 0.00% gc time)\n"
     ]
    }
   ],
   "source": [
    "# Ejecutar el programa para p=128\n",
    "\n",
    "@time begin\n",
    "    eval_bubble(\"128\")\n",
    "end\n",
    "# Se ejecuta dos veces para no considerar el tiempo de compilación \n",
    "@time begin\n",
    "    eval_bubble(\"128\")\n",
    "end"
   ]
  },
  {
   "cell_type": "code",
   "execution_count": 37,
   "id": "52c106cb-da08-4ae6-9533-5d2347bcfe35",
   "metadata": {},
   "outputs": [
    {
     "name": "stdout",
     "output_type": "stream",
     "text": [
      "Comparaciones: 1306702501\n",
      "Intercambios: 26925715\n",
      " 37.682648 seconds (191.55 k allocations: 7.572 MiB, 0.00% gc time)\n",
      "Comparaciones: 1306702501\n",
      "Intercambios: 26925715\n",
      " 37.965850 seconds (191.68 k allocations: 7.581 MiB, 0.00% gc time)\n"
     ]
    }
   ],
   "source": [
    "# Ejecutar el programa para p=256\n",
    "\n",
    "@time begin\n",
    "    eval_bubble(\"256\")\n",
    "end\n",
    "# Se ejecuta dos veces para no considerar el tiempo de compilación \n",
    "@time begin\n",
    "    eval_bubble(\"256\")\n",
    "end"
   ]
  },
  {
   "cell_type": "code",
   "execution_count": 38,
   "id": "60ea552c-96b5-463c-9b02-3d22bbf1989f",
   "metadata": {},
   "outputs": [
    {
     "name": "stdout",
     "output_type": "stream",
     "text": [
      "Comparaciones: 1308817164\n",
      "Intercambios: 48656147\n",
      " 38.155156 seconds (191.54 k allocations: 7.572 MiB, 0.00% gc time)\n",
      "Comparaciones: 1308817164\n",
      "Intercambios: 48656147\n",
      " 38.810830 seconds (191.67 k allocations: 7.581 MiB, 0.00% gc time)\n"
     ]
    }
   ],
   "source": [
    "# Ejecutar el programa para p=512\n",
    "\n",
    "@time begin\n",
    "    eval_bubble(\"512\")\n",
    "end\n",
    "# Se ejecuta dos veces para no considerar el tiempo de compilación \n",
    "@time begin\n",
    "    eval_bubble(\"512\")\n",
    "end"
   ]
  },
  {
   "cell_type": "markdown",
   "id": "9b75df20-9e16-4823-b097-d82526af0368",
   "metadata": {},
   "source": [
    "## Resultados y discusión"
   ]
  },
  {
   "cell_type": "markdown",
   "id": "4a94f18d-b9ff-41f6-b9e5-d9ed1f674ed7",
   "metadata": {},
   "source": [
    "Tabla 1. Número de comparaciones por algoritmo de ordenamiento\n",
    "\n",
    "\n",
    "\\\n",
    "\\begin{array}{|c|c|c|c|c|}\n",
    "\\hline\n",
    "\\textbf{Perturbación} & \\textbf{Heapsort} & \\textbf{Mergesort} & \\textbf{Quicksort} & \\textbf{Bubblesort} \\\\\n",
    "\\hline\n",
    "16 & 4,830,498 & 1,572,444 & 238,991,206 & 1,239,423,690 \\\\\n",
    "32 & 4,826,432 & 1,669,236 & 155,831,691 & 1,230,370,900 \\\\\n",
    "64 & 4,820,024 & 1,755,354 & 100,831,274 & 1,290,738,623 \\\\\n",
    "128 & 4,805,308 & 1,844,035 & 28,777,425 & 1,302,028,794 \\\\\n",
    "256 & 4,783,464 & 1,915,028 & 18,675,607 & 1,306,702,501 \\\\\n",
    "512 & 4,752,240 & 1,975,697 & 11,725,369 & 1,308,817,164 \\\\\n",
    "\\hline\n",
    "\\end{array}\n"
   ]
  },
  {
   "cell_type": "markdown",
   "id": "fae60718-f567-4531-b53e-73c11271a0b7",
   "metadata": {},
   "source": [
    "De la tabla 1 podemos observar que tanto Mergesort como Heapsort, mantuvieron números de comparaciones muy similares, debemos recordar que estos dos algoritmos de ordenamiento tienen complejidades de $O(n \\log n)$ en todos los casos, por lo que sin importar el nivel de perturbación en cada archivo las comparaciones que realizó el algoritmo fueron prácticamente iguales en cada caso.\n",
    "\n",
    "En el caso de Quicksort, su complejidad depende del pivote seleccionado, para el experimento se eligió el último elemento de cada lista  de tal forma que durante la partición, el arreglo se reorganiza de manera que los elementos menores que el pivote queden a la izquierda y los elementos mayores queden a la derecha, por lo que si el arreglo está casi ordenado, el pivote será el elemento más grande. Como resultado, la partición no será eficiente y hará que la complejidad del algortimo tienda a $O(n^2)$. Esto es verificable en la tabla de resultados donde se muestra que mientras menos desordenados estaban los arreglos el número de comparaciones fue mayor.\n",
    "\n",
    "Finalmente para Bubblesort, se puede apreciar que de todos los algoritmos fue el que mayor número de comparaciones requirió, debemos también recordar que su complejidad varía entre $O(n)$ y $O(n^2)$, y al ser un algortimo adaptativo se vuelve sensible al orden preexistente en los arreglos a ordenar. Esto se puede verificar en la tabla en la que podemos apreciar la tendencia clara a aumentar el número de comparaciones conforme aumenta el desorden"
   ]
  },
  {
   "cell_type": "markdown",
   "id": "e7af511b-9145-4294-a77e-7ca014103425",
   "metadata": {},
   "source": [
    "Tabla 2. Número de intercambios por algoritmo de ordenamiento\n",
    "\n",
    "\n",
    "\n",
    "\\begin{array}{|c|c|c|c|c|}\n",
    "\\hline\n",
    "\\textbf{Perturbación} & \\textbf{Heapsort} & \\textbf{Mergesort} & \\textbf{Quicksort} & \\textbf{Bubblesort} \\\\\n",
    "\\hline\n",
    "16 & 2,319,348 & 2,367,713 & 132,394,039 & 1,951,394 \\\\\n",
    "32 & 2,317,315 & 2,367,713 & 109,338,692 & 4,024,541 \\\\\n",
    "64 & 2,314,111 & 2,367,713 & 78,513,669 & 7,686,291 \\\\\n",
    "128 & 2,306,753 & 2,367,713 & 16,890,882 & 14,702,835 \\\\\n",
    "256 & 2,295,831 & 2,367,713 & 6,596,669 & 26,925,715 \\\\\n",
    "512 & 2,280,219 & 2,367,713 & 7,020,554 & 48,656,147 \\\\\n",
    "\\hline\n",
    "\\end{array}"
   ]
  },
  {
   "cell_type": "markdown",
   "id": "59e1c589-c572-46cd-a507-89893aa96e65",
   "metadata": {},
   "source": [
    "La tabla 2 se puede interpretar bajo la misma lógica de la tabla anterior los algoritmos de complejidad constante $O(n \\log n)$, Heapsort y Mergesort manttuvieron valores de intercambios constantes, en particular Mergesort que mantuvo exactamente el mismo número para cada caso. Quicksort al haber elegido el último elemento como pivote muestra un descenso de los intercambios necesarios conforme las entradas son más desordenadas. Finalmente Bubblesort al ser un algoritmo adaptativo muestra un marcado incremento en el número de intercambios necesarios conforme las entradas se tienen un mayor grado de perturbación. "
   ]
  },
  {
   "cell_type": "markdown",
   "id": "282bf935-2ff6-404f-bfb6-3d9ebd23b70b",
   "metadata": {},
   "source": [
    "Tabla 3. Tiempos de ejecución por algoritmo de ordenamiento en segundos\n",
    "\n",
    "\n",
    "\n",
    "\\begin{array}{|c|c|c|c|c|}\n",
    "\\hline\n",
    "\\textbf{Perturbación} & \\textbf{Heapsort} & \\textbf{Mergesort} & \\textbf{Quicksort} & \\textbf{Bubblesort} \\\\\n",
    "\\hline\n",
    "16 & 0.207115 & 0.442377 & 8.226709 & 35.802825 \\\\\n",
    "32 & 0.245424 & 0.184990 & 5.646577 & 34.921086 \\\\\n",
    "64 & 0.213742 & 0.259645 & 3.760600 & 40.992388 \\\\\n",
    "128 & 0.180788 & 0.193641 & 1.055082 & 37.637456 \\\\\n",
    "256 & 0.176678 & 0.174015 & 0.625922 & 37.965850 \\\\\n",
    "512 & 0.182040 & 0.261640 & 0.461213 & 38.810830 \\\\\n",
    "\\hline\n",
    "\\end{array}"
   ]
  },
  {
   "cell_type": "markdown",
   "id": "2bbb5465-7165-4c5d-b5a9-c8f87cc4090c",
   "metadata": {},
   "source": [
    "Finalmente de la tabla 3 podemos observar que los mejores tiempos de ejecución fueron para los algortimos de complejidad constante; Heapsort y Mergesort. Quicksort mostró tiempos de ejecución de un orden superior e la mayoría de los casos, pero en los casos de mayor desorden los tiempos son comparables. Finalmente Bubblesort mostró tiempos de ejecución de hasta dos ordenes de magnitud mayores, lo que lo convierte en el algoritmo menos eficiente para este experimento. "
   ]
  },
  {
   "cell_type": "markdown",
   "id": "de5a1913-0c41-4b85-b2b6-c7aff8c553c6",
   "metadata": {},
   "source": [
    "## Conclusiones\n",
    "En conclusión, los resultados obtenidos y expresados en las tablas comparativas ofrecen una visión clara del rendimiento de los algoritmos evaluados en términos de comparaciones, intercambios y tiempos de ejecución. Tanto Mergesort como Heapsort mostraron un rendimiento bastante constante en cuanto al número de comparaciones, dado que son de complejidad constante $O(n \\log n)$ esto refleja su eficiencia al manejar diferentes niveles de desorden en los datos. Esta eficiencia también se refleja en los tiempos de ejecución observados en la tabla 3, donde ambos algoritmos demostraron ser los más rápidos, con tiempos de ejecución estables y comparables a lo largo de los distintos niveles de desorden.\n",
    "\n",
    "Por otro lado, Quicksort mostró una mayor variabilidad en su número de comparaciones, especialmente cuando los arreglos estaban casi ordenados. En estos casos, debido a la elección del último elemento como pivote, la partición resultó ineficiente para los casos en los que los arreglos estaaban más ordenados, pero eficiente para aquellos más desordenados, esto también se vio reflejado en sus tiempos de ejecución. Aunque en los casos con mayor desorden, los tiempos de ejecución de Quicksort fueron comparables a los de Mergesort y Heapsort, su desempeño sigue siendo menos predecible y más dependiente del estado inicial de los datos.\n",
    "\n",
    "Finalmente, Bubblesort fue el algoritmo que requirió el mayor número de comparaciones en todos los casos, lo que también se reflejó en sus tiempos de ejecución. En los experimentos, Bubblesort mostró tiempos de ejecución de hasta dos órdenes de magnitud mayores que los de los otros algoritmos, lo que lo convierte en el algoritmo menos eficiente de todos en este experimento. \n",
    "\n",
    "En resumen, los resultados destacan la superioridad de Mergesort y Heapsort tanto en términos de eficiencia en el número de comparaciones como en tiempos de ejecución, mientras que Quicksort, aunque competitivo en ciertos escenarios, puede ser sensible al desorden inicial de los datos, y Bubblesort sigue siendo el menos eficiente en especial para entradas con con mucho desorden preexistente. \n"
   ]
  },
  {
   "cell_type": "markdown",
   "id": "991b45d5-9146-4039-bf77-38ca67a7836f",
   "metadata": {},
   "source": [
    "## Bibliografía\n",
    "Cormen, Thomas H.; Leiserson, Charles E.; Rivest, Ronald L.; Stein, Clifford (2022). Introduction to Algorithms (2nd ed.). MIT Press.\n",
    "\n",
    "Estivill-Castro, V., & Wood, D. (1992). A survey of adaptive sorting algorithms. ACM Computing Surveys, 24(4), 441-476. https://doi.org/10.1145/146370.146381\n",
    "\n",
    "Sedgewick, R., & Wayne, K. (2011). Algorithms (4th ed.). Pearson Education, Inc.\n"
   ]
  },
  {
   "cell_type": "code",
   "execution_count": null,
   "id": "54539a8d-419d-4d3e-8b59-01a4e262cae2",
   "metadata": {},
   "outputs": [],
   "source": []
  }
 ],
 "metadata": {
  "kernelspec": {
   "display_name": "Julia 1.11.3",
   "language": "julia",
   "name": "julia-1.11"
  },
  "language_info": {
   "file_extension": ".jl",
   "mimetype": "application/julia",
   "name": "julia",
   "version": "1.11.3"
  }
 },
 "nbformat": 4,
 "nbformat_minor": 5
}
