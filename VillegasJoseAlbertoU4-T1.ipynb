{
 "cells": [
  {
   "cell_type": "markdown",
   "id": "691ffeba-34fc-4ff8-98f6-eb7adf279bce",
   "metadata": {},
   "source": [
    "# 4A. Reporte escrito. Experimentos y análisis de algoritmos de búsqueda por comparación.\n",
    "José Alberto Villegas Díaz Disciplina"
   ]
  },
  {
   "cell_type": "markdown",
   "id": "c0fea02d",
   "metadata": {},
   "source": [
    "# Lista de cambios:\n",
    "\n",
    "Se corrigó el algoritmo de búsqueda secuencial, lo que mejoró considerablemente su desempeño\n",
    "Se detalló de manera correcta la complejidad de $B1$ y $B2$ que es $O(log p)$ donde $p$ es la posición de inserción"
   ]
  },
  {
   "cell_type": "markdown",
   "id": "ced6f37c-d88b-4c5b-95cd-f52eb1d50837",
   "metadata": {},
   "source": [
    "## Introducción\n",
    "\n",
    "Knuth (1998) señala que el problema de búsqueda consiste en encontrar datos almacenados a partir de una identificación única, conocida como clave. Dado un conjunto de $N$ registros, el objetivo es localizar aquel que contiene la clave proporcionada. \n",
    "\n",
    "En este reporte, se implementan y comparan cinco algoritmos de búsqueda por comparación:  \n",
    "\n",
    "1. **Búsqueda binaria acotada**: Un método eficiente para buscar en arreglos ordenados, con complejidad $O(\\log n)$.  \n",
    "2. **Búsqueda secuencial B0 (búsqueda unaria)**: Una búsqueda lineal simple que examina cada elemento secuencialmente hasta encontrar el objetivo, con complejidad en el peor caso $O(n)$.  \n",
    "3. **Búsqueda no acotada B1 (doubling search/galloping)**: Una técnica que combina búsqueda lineal con saltos exponenciales para localizar un intervalo antes de aplicar búsqueda binaria, útil cuando el tamaño del conjunto de datos es desconocido.  \n",
    "4. **Búsqueda no acotada B2 (doubling-doubling search)**: Una variante más agresiva de la búsqueda B1, que incrementa el tamaño de los saltos de manera más rápida para reducir el número de comparaciones.  \n",
    "5. **Búsqueda mediante SkipList**: Una estructura de datos probabilística que permite búsquedas eficientes con complejidad esperada $O(\\log n)$.  \n",
    "\n",
    "El objetivo de este estudio es analizar el rendimiento de estos algoritmos bajo diferentes condiciones, evaluando su eficiencia en términos de tiempo de ejecución y número de comparaciones realizadas. A través de experimentos controlados, se busca determinar en qué escenarios cada algoritmo ofrece el mejor desempeño, considerando tanto entornos acotados (donde el tamaño del conjunto de datos es conocido) como no acotados (donde el tamaño es dinámico o desconocido).  \n",
    "\n",
    "Los resultados obtenidos proporcionarán insights valiosos sobre las ventajas y desventajas de cada método, permitiendo una selección informada del algoritmo más adecuado según los requisitos específicos de una aplicación dada."
   ]
  },
  {
   "cell_type": "markdown",
   "id": "05b917a2-f146-4bc3-a055-97e7686df3b1",
   "metadata": {},
   "source": [
    "## Ordenamiento previo\n",
    "\n",
    "Para el correcto funcionamiento de los algoritmos de búsqueda, es necesario que las listas de posteo dónde realizaremos dichas búsquedas estén ordenadas. Por lo que se utilizará el algoritmo de ordenamiento \"heapsort\" mismo que demostró una mayor eficiencia para el ordenamiento de estas listas de posteo en el \"Reporte 3.A Experimentos y análisis de algoritmos de ordenamiento\"."
   ]
  },
  {
   "cell_type": "code",
   "execution_count": 3,
   "id": "ff82e35a-14b9-4699-aef4-c8a09186cc88",
   "metadata": {},
   "outputs": [
    {
     "data": {
      "text/plain": [
       "ordenar_json (generic function with 1 method)"
      ]
     },
     "execution_count": 3,
     "metadata": {},
     "output_type": "execute_result"
    }
   ],
   "source": [
    "using JSON\n",
    "using Dates\n",
    "\n",
    "# Función para ajustar el montículo (heapify) - Índices basados en 1\n",
    "function heapify!(arr, n, i)\n",
    "    largest = i\n",
    "    left = 2 * i      # Hijo izquierdo (ajustado para base 1)\n",
    "    right = 2 * i + 1 # Hijo derecho (ajustado para base 1)\n",
    "\n",
    "    # Comparar con el hijo izquierdo\n",
    "    if left <= n && arr[left] > arr[largest]\n",
    "        largest = left\n",
    "    end\n",
    "\n",
    "    # Comparar con el hijo derecho\n",
    "    if right <= n && arr[right] > arr[largest]\n",
    "        largest = right\n",
    "    end\n",
    "\n",
    "    # Si el mayor no es la raíz, intercambiar y seguir ajustando\n",
    "    if largest != i\n",
    "        arr[i], arr[largest] = arr[largest], arr[i]\n",
    "        heapify!(arr, n, largest)\n",
    "    end\n",
    "end\n",
    "\n",
    "# Implementación de HeapSort - Índices basados en 1\n",
    "function heapsort!(arr)\n",
    "    n = length(arr)\n",
    "\n",
    "    # Construir el max-heap\n",
    "    for i in n ÷ 2:-1:1\n",
    "        heapify!(arr, n, i)\n",
    "    end\n",
    "\n",
    "    # Extraer elementos del heap uno por uno\n",
    "    for i in n:-1:2\n",
    "        arr[1], arr[i] = arr[i], arr[1]  # Mover la raíz al final\n",
    "        heapify!(arr, i - 1, 1)\n",
    "    end\n",
    "\n",
    "    return arr\n",
    "end\n",
    "\n",
    "# Función para cargar y ordenar el archivo JSON\n",
    "function ordenar_json(p::String)\n",
    "    # Construir la ruta del archivo\n",
    "    ruta_archivo = joinpath(homedir(), raw\"C:\\Users\\josea\\Downloads\\listas-posteo-con-perturbaciones\", \n",
    "                           \"listas-posteo-con-perturbaciones-p=\" * p * \".json\")\n",
    "\n",
    "    # Cargar el archivo JSON\n",
    "    datos = JSON.parsefile(ruta_archivo)\n",
    "    \n",
    "    # Ordenar cada lista en el archivo JSON\n",
    "    for (clave, arr) in datos\n",
    "        heapsort!(arr)\n",
    "    end\n",
    "    \n",
    "    # Devolver los datos ordenados\n",
    "    return datos\n",
    "end"
   ]
  },
  {
   "cell_type": "code",
   "execution_count": 4,
   "id": "952395c0-4cba-46d9-8541-a952df1ffdcf",
   "metadata": {},
   "outputs": [
    {
     "data": {
      "text/plain": [
       "Dict{String, Any} with 100 entries:\n",
       "  \"reunion\"      => Any[260, 275, 294, 296, 314, 317, 341, 384, 457, 529  …  49…\n",
       "  \"virtual\"      => Any[45, 47, 63, 97, 255, 291, 295, 310, 327, 370  …  49582,…\n",
       "  \"julio\"        => Any[25, 31, 74, 260, 297, 341, 361, 404, 434, 443  …  47540…\n",
       "  \"votos\"        => Any[66, 86, 102, 311, 330, 334, 462, 560, 637, 655  …  4483…\n",
       "  \"propuesta\"    => Any[37, 3109, 3637, 3676, 4013, 4015, 4021, 4027, 4046, 404…\n",
       "  \"nacional\"     => Any[260, 262, 267, 269, 272, 273, 281, 282, 289, 294  …  49…\n",
       "  \"electoral\"    => Any[65, 132, 170, 190, 208, 310, 578, 591, 701, 745  …  472…\n",
       "  \"@m_ebrard\"    => Any[351, 359, 366, 623, 1745, 1983, 2838, 2923, 3360, 3538 …\n",
       "  \"jovenes\"      => Any[22, 191, 192, 195, 196, 213, 220, 245, 350, 365  …  486…\n",
       "  \"_num\"         => Any[25, 31, 32, 37, 52, 62, 66, 74, 91, 92  …  49972, 49974…\n",
       "  \"aqui\"         => Any[19, 52, 92, 299, 315, 504, 598, 659, 678, 776  …  49079…\n",
       "  \"mayor\"        => Any[54, 290, 423, 701, 887, 1107, 1148, 1379, 1617, 1719  ……\n",
       "  \"#envivo\"      => Any[11, 15, 19, 24, 39, 58, 59, 63, 73, 81  …  49613, 49618…\n",
       "  \"👉\"           => Any[30, 31, 87, 295, 365, 504, 557, 600, 838, 964  …  49442…\n",
       "  \"mexico\"       => Any[10, 13, 14, 15, 21, 25, 27, 30, 36, 40  …  49806, 49835…\n",
       "  \"@epn\"         => Any[3, 12, 46, 224, 260, 262, 269, 272, 273, 281  …  49862,…\n",
       "  \"poder\"        => Any[37, 314, 374, 671, 767, 817, 888, 908, 943, 984  …  488…\n",
       "  \"pri\"          => Any[52, 92, 168, 233, 564, 627, 657, 671, 692, 698  …  4887…\n",
       "  \"encuentro\"    => Any[716, 1036, 1060, 1209, 1256, 3285, 3573, 3632, 3716, 37…\n",
       "  \"pena\"         => Any[12, 26, 66, 98, 102, 265, 270, 275, 285, 294  …  49904,…\n",
       "  \"gano\"         => Any[49, 153, 183, 304, 369, 490, 527, 584, 597, 602  …  470…\n",
       "  \"reune\"        => Any[3173, 3208, 3628, 3913, 4478, 4502, 4662, 4673, 4699, 4…\n",
       "  \"plan\"         => Any[202, 1209, 1351, 3109, 3730, 3863, 4218, 4259, 4261, 43…\n",
       "  \"presidencial\" => Any[12, 16, 47, 63, 132, 145, 242, 259, 317, 450  …  48944,…\n",
       "  \"resultados\"   => Any[1, 31, 49, 50, 153, 162, 237, 241, 242, 251  …  45776, …\n",
       "  ⋮              => ⋮"
      ]
     },
     "execution_count": 4,
     "metadata": {},
     "output_type": "execute_result"
    }
   ],
   "source": [
    "# Como son las mismas listas con diferentes niveles de desorden basta con que tomemos un archivo (el de menor perturbación)\n",
    "lista = ordenar_json(\"016\")"
   ]
  },
  {
   "cell_type": "code",
   "execution_count": 5,
   "id": "d4d900bf-308e-483e-af81-fa65d00de3d9",
   "metadata": {
    "scrolled": true
   },
   "outputs": [
    {
     "data": {
      "text/plain": [
       "10000-element Vector{Any}:\n",
       " 39835\n",
       " 37103\n",
       " 20584\n",
       " 11036\n",
       "  3086\n",
       " 26699\n",
       "  9561\n",
       " 36445\n",
       "  2853\n",
       " 27873\n",
       "  2216\n",
       "  1500\n",
       " 48987\n",
       "     ⋮\n",
       "  4218\n",
       " 23841\n",
       " 38354\n",
       " 40129\n",
       " 20626\n",
       " 32118\n",
       " 42722\n",
       " 20874\n",
       " 47462\n",
       " 37764\n",
       " 29520\n",
       " 10134"
      ]
     },
     "execution_count": 5,
     "metadata": {},
     "output_type": "execute_result"
    }
   ],
   "source": [
    "# Cargar listas de consultas\n",
    "consultas1 = JSON.parsefile(joinpath(homedir(), raw\"C:\\Users\\josea\\Downloads\\consultas-1-listas-posteo.json\"))\n",
    "consultas2 = JSON.parsefile(joinpath(homedir(), raw\"C:\\Users\\josea\\Downloads\\consultas-2-listas-posteo.json\"))\n",
    "consultas3 = JSON.parsefile(joinpath(homedir(), raw\"C:\\Users\\josea\\Downloads\\consultas-3-listas-posteo.json\"))\n",
    "consultas4 = JSON.parsefile(joinpath(homedir(), raw\"C:\\Users\\josea\\Downloads\\consultas-4-listas-posteo.json\"))"
   ]
  },
  {
   "cell_type": "code",
   "execution_count": 34,
   "id": "19d55423-0e58-4255-8d25-99b544eee35f",
   "metadata": {},
   "outputs": [
    {
     "name": "stdout",
     "output_type": "stream",
     "text": [
      "10000\n",
      "10000\n",
      "10000\n",
      "10000\n"
     ]
    }
   ],
   "source": [
    "#Inspeccionamos de manera general las características de las listas de consulta. \n",
    "println(length(consultas1))\n",
    "println(length(consultas2))\n",
    "println(length(consultas3))\n",
    "println(length(consultas4))"
   ]
  },
  {
   "cell_type": "code",
   "execution_count": 40,
   "id": "be9936c9-3186-4ec1-b44b-ba3882d7cc58",
   "metadata": {},
   "outputs": [
    {
     "name": "stdout",
     "output_type": "stream",
     "text": [
      "Any[5, 12, 3, 2, 4, 3, 15, 1, 4, 14, 5, 3, 14, 9, 3, 4, 1, 12, 13, 5]\n",
      "Any[200, 229, 46, 186, 58, 183, 208, 212, 162, 72]\n",
      "Any[694, 555, 2078, 3674, 667, 1144, 2329, 1163, 3398, 3291]\n",
      "Any[39835, 37103, 20584, 11036, 3086, 26699, 9561, 36445, 2853, 27873]\n"
     ]
    }
   ],
   "source": [
    "println(consultas1[1:20])\n",
    "println(consultas2[1:10])\n",
    "println(consultas3[1:10])\n",
    "println(consultas4[1:10])"
   ]
  },
  {
   "cell_type": "markdown",
   "id": "bb5feb51-60a5-4367-928f-bfb8a3b963c9",
   "metadata": {},
   "source": [
    "De lo anterior podemos darnos cuenta que las listas de consulta constan del mismo número de elementos, con la particularidad que los elementos de las listas aumentan en uno o dos órdenes de magnitud consecutivamente. De tal manera que la primera lista contiene elementos de orden de $10^0$ a $10^1$ y la última elementos de $10^3$ y $10^4$"
   ]
  },
  {
   "cell_type": "markdown",
   "id": "c76293f1-4087-4046-bbdc-646c793f79f0",
   "metadata": {},
   "source": [
    "##  Búsqueda binaria acotada\n",
    "\n",
    "De acuerdo con Knuth (1998), la **búsqueda binaria** es un algoritmo eficiente para encontrar un elemento en una lista ordenada. Funciona comparando el valor buscado $K$ con el elemento central de la lista:  \n",
    "\n",
    "1. Si $K$ es igual al valor medio, la búsqueda finaliza con éxito.  \n",
    "2. Si $K$ es menor, se repite la búsqueda en la mitad inferior de la lista.  \n",
    "3. Si $K$ es mayor, se repite en la mitad superior.  \n",
    "\n",
    "Este proceso se repite hasta encontrar el elemento o determinar que no está en la lista.  \n",
    "\n",
    " Algoritmo  \n",
    "\n",
    "Dada una lista ordenada con claves $K_1, K_2, \\dots, K_N$, el algoritmo se describe así:  \n",
    "\n",
    "- **Inicialización:** Definir los límites $l = 1$ y $u = N$.  \n",
    "- **Bucle:** Mientras $l \\leq u$:  \n",
    "  - Calcular el punto medio: $i = \\lfloor (l + u)/2 \\rfloor$.  \n",
    "  - Si $K = K_i$, retornar éxito.  \n",
    "  - Si $K < K_i$, actualizar $u = i - 1$.  \n",
    "  - Si $K > K_i$, actualizar $l = i + 1$.  \n",
    "- **Si el bucle termina sin éxito, el elemento no está en la lista.**  \n",
    "\n",
    "Complejidad  $ O(\\log n) $\n"
   ]
  },
  {
   "cell_type": "code",
   "execution_count": 27,
   "id": "b0f08a00-510e-4305-9cbd-6b8cf6f3e96a",
   "metadata": {},
   "outputs": [
    {
     "data": {
      "text/plain": [
       "procesar_archivo_y_buscar (generic function with 1 method)"
      ]
     },
     "execution_count": 27,
     "metadata": {},
     "output_type": "execute_result"
    }
   ],
   "source": [
    "using JSON\n",
    "\n",
    "function busqueda_binaria_acotada(arr, valor, bajo, alto, contador)\n",
    "    while bajo <= alto\n",
    "        medio = (bajo + alto) ÷ 2\n",
    "        contador[] += 1  # Incrementar contador de comparaciones\n",
    "        \n",
    "        if arr[medio] == valor\n",
    "            return medio  # Valor encontrado\n",
    "        elseif arr[medio] < valor\n",
    "            bajo = medio + 1\n",
    "        else\n",
    "            alto = medio - 1\n",
    "        end\n",
    "    end\n",
    "    return -1  # Valor no encontrado\n",
    "end\n",
    "\n",
    "function buscar_en_listas_ordenadas(datos_ordenados, elementos_a_buscar)\n",
    "    # Contador de comparaciones (usamos un Ref para poder modificarlo en las funciones)\n",
    "    total_comparaciones = Ref(0)\n",
    "    \n",
    "    # Diccionario para guardar resultados por clave\n",
    "    resultados = Dict{String, Dict}()\n",
    "    \n",
    "    for (clave, arr) in datos_ordenados\n",
    "        resultados_clave = Dict{Any, Any}()\n",
    "        comparaciones_clave = 0\n",
    "        \n",
    "        for elemento in elementos_a_buscar\n",
    "            # Realizar búsqueda binaria acotada\n",
    "            posicion = busqueda_binaria_acotada(arr, elemento, 1, length(arr), total_comparaciones)\n",
    "            resultados_clave[elemento] = posicion != -1 ? \"Encontrado en posición $posicion\" : \"No encontrado\"\n",
    "        end\n",
    "        \n",
    "        resultados[clave] = resultados_clave\n",
    "    end\n",
    "    \n",
    "    # Devolver resultados y total de comparaciones\n",
    "    return resultados, total_comparaciones[]\n",
    "end\n",
    "\n",
    "# Función completa para cargar, ordenar y buscar\n",
    "function procesar_archivo_y_buscar(datos_ordenados, elementos_a_buscar)\n",
    "    \n",
    "    # Realizar búsquedas en las listas ordenadas del diccionario\n",
    "    \n",
    "    resultados, total_comparaciones = buscar_en_listas_ordenadas(datos_ordenados, elementos_a_buscar)\n",
    "    \n",
    "    println(\"Total de comparaciones realizadas: $total_comparaciones\")\n",
    "    return resultados\n",
    "end"
   ]
  },
  {
   "cell_type": "code",
   "execution_count": 27,
   "id": "e898ac68-4198-42fc-a198-9737d608b568",
   "metadata": {},
   "outputs": [
    {
     "data": {
      "text/plain": [
       "procesar_archivo_y_buscar (generic function with 1 method)"
      ]
     },
     "execution_count": 27,
     "metadata": {},
     "output_type": "execute_result"
    }
   ],
   "source": [
    "using JSON\n",
    "\n",
    "function busqueda_binaria_acotada(arr, valor, bajo, alto, contador)\n",
    "    while bajo <= alto\n",
    "        medio = (bajo + alto) ÷ 2\n",
    "        contador[] += 1  # Incrementar contador de comparaciones\n",
    "        \n",
    "        if arr[medio] == valor\n",
    "            return medio  # Valor encontrado\n",
    "        elseif arr[medio] < valor\n",
    "            bajo = medio + 1\n",
    "        else\n",
    "            alto = medio - 1\n",
    "        end\n",
    "    end\n",
    "    return -1  # Valor no encontrado\n",
    "end\n",
    "\n",
    "function buscar_en_listas_ordenadas(datos_ordenados, elementos_a_buscar)\n",
    "    # Contador de comparaciones (usamos un Ref para poder modificarlo en las funciones)\n",
    "    total_comparaciones = Ref(0)\n",
    "    \n",
    "    # Diccionario para guardar resultados por clave\n",
    "    resultados = Dict{String, Dict}()\n",
    "    \n",
    "    for (clave, arr) in datos_ordenados\n",
    "        resultados_clave = Dict{Any, Any}()\n",
    "        comparaciones_clave = 0\n",
    "        \n",
    "        for elemento in elementos_a_buscar\n",
    "            # Realizar búsqueda binaria acotada\n",
    "            posicion = busqueda_binaria_acotada(arr, elemento, 1, length(arr), total_comparaciones)\n",
    "            resultados_clave[elemento] = posicion != -1 ? \"Encontrado en posición $posicion\" : \"No encontrado\"\n",
    "        end\n",
    "        \n",
    "        resultados[clave] = resultados_clave\n",
    "    end\n",
    "    \n",
    "    # Devolver resultados y total de comparaciones\n",
    "    return resultados, total_comparaciones[]\n",
    "end\n",
    "\n",
    "# Función completa para cargar, ordenar y buscar\n",
    "function procesar_archivo_y_buscar(datos_ordenados, elementos_a_buscar)\n",
    "    \n",
    "    # Realizar búsquedas en las listas ordenadas del diccionario\n",
    "    \n",
    "    resultados, total_comparaciones = buscar_en_listas_ordenadas(datos_ordenados, elementos_a_buscar)\n",
    "    \n",
    "    println(\"Total de comparaciones realizadas: $total_comparaciones\")\n",
    "    return resultados\n",
    "end"
   ]
  },
  {
   "cell_type": "code",
   "execution_count": 28,
   "id": "f996372c-f3ff-4f5b-81eb-4a1a4d4447f7",
   "metadata": {
    "scrolled": true
   },
   "outputs": [
    {
     "name": "stdout",
     "output_type": "stream",
     "text": [
      "Total de comparaciones realizadas: 9658445\n",
      "  0.857163 seconds (1.27 M allocations: 26.252 MiB, 19.35% gc time, 9.43% compilation time)\n",
      "Total de comparaciones realizadas: 9810026\n",
      "  0.635125 seconds (1.25 M allocations: 26.321 MiB, 1.37% gc time, 0.50% compilation time)\n",
      "Total de comparaciones realizadas: 9999849\n",
      "  1.125757 seconds (20.15 M allocations: 352.905 MiB, 20.68% gc time)\n",
      "Total de comparaciones realizadas: 10052264\n",
      "  1.054306 seconds (22.81 M allocations: 393.393 MiB, 13.41% gc time)\n"
     ]
    },
    {
     "data": {
      "text/plain": [
       "Dict{String, Dict} with 100 entries:\n",
       "  \"reunion\"      => Dict{Any, Any}(31905=>\"No encontrado\", 4700=>\"No encontrado…\n",
       "  \"virtual\"      => Dict{Any, Any}(31905=>\"No encontrado\", 4700=>\"No encontrado…\n",
       "  \"julio\"        => Dict{Any, Any}(31905=>\"No encontrado\", 4700=>\"No encontrado…\n",
       "  \"votos\"        => Dict{Any, Any}(31905=>\"No encontrado\", 4700=>\"No encontrado…\n",
       "  \"propuesta\"    => Dict{Any, Any}(31905=>\"No encontrado\", 4700=>\"No encontrado…\n",
       "  \"nacional\"     => Dict{Any, Any}(31905=>\"No encontrado\", 4700=>\"No encontrado…\n",
       "  \"electoral\"    => Dict{Any, Any}(31905=>\"No encontrado\", 4700=>\"No encontrado…\n",
       "  \"@m_ebrard\"    => Dict{Any, Any}(31905=>\"No encontrado\", 4700=>\"No encontrado…\n",
       "  \"jovenes\"      => Dict{Any, Any}(31905=>\"No encontrado\", 4700=>\"No encontrado…\n",
       "  \"_num\"         => Dict{Any, Any}(31905=>\"Encontrado en posición 4212\", 4700=>…\n",
       "  \"aqui\"         => Dict{Any, Any}(31905=>\"No encontrado\", 4700=>\"No encontrado…\n",
       "  \"mayor\"        => Dict{Any, Any}(31905=>\"No encontrado\", 4700=>\"No encontrado…\n",
       "  \"#envivo\"      => Dict{Any, Any}(31905=>\"No encontrado\", 4700=>\"No encontrado…\n",
       "  \"👉\"           => Dict{Any, Any}(31905=>\"No encontrado\", 4700=>\"No encontrado…\n",
       "  \"mexico\"       => Dict{Any, Any}(31905=>\"No encontrado\", 4700=>\"No encontrado…\n",
       "  \"@epn\"         => Dict{Any, Any}(31905=>\"No encontrado\", 4700=>\"No encontrado…\n",
       "  \"poder\"        => Dict{Any, Any}(31905=>\"No encontrado\", 4700=>\"No encontrado…\n",
       "  \"pri\"          => Dict{Any, Any}(31905=>\"No encontrado\", 4700=>\"No encontrado…\n",
       "  \"encuentro\"    => Dict{Any, Any}(31905=>\"No encontrado\", 4700=>\"No encontrado…\n",
       "  \"pena\"         => Dict{Any, Any}(31905=>\"No encontrado\", 4700=>\"No encontrado…\n",
       "  \"gano\"         => Dict{Any, Any}(31905=>\"No encontrado\", 4700=>\"No encontrado…\n",
       "  \"reune\"        => Dict{Any, Any}(31905=>\"No encontrado\", 4700=>\"No encontrado…\n",
       "  \"plan\"         => Dict{Any, Any}(31905=>\"No encontrado\", 4700=>\"No encontrado…\n",
       "  \"presidencial\" => Dict{Any, Any}(31905=>\"No encontrado\", 4700=>\"No encontrado…\n",
       "  \"resultados\"   => Dict{Any, Any}(31905=>\"No encontrado\", 4700=>\"No encontrado…\n",
       "  ⋮              => ⋮"
      ]
     },
     "execution_count": 28,
     "metadata": {},
     "output_type": "execute_result"
    }
   ],
   "source": [
    "@time begin\n",
    "    procesar_archivo_y_buscar(lista,(consultas1))\n",
    "end\n",
    "@time begin\n",
    "    procesar_archivo_y_buscar(lista,(consultas2))\n",
    "end\n",
    "@time begin\n",
    "    procesar_archivo_y_buscar(lista,(consultas3))\n",
    "end\n",
    "@time begin\n",
    "    procesar_archivo_y_buscar(lista,(consultas4))\n",
    "end"
   ]
  },
  {
   "cell_type": "markdown",
   "id": "bc6fa09a-29d2-4a4e-acc7-9c0b6915c20d",
   "metadata": {},
   "source": [
    "De lo anterior podemos observar el número de comparaciones y los tiempos de ejecución permanecieron relativamente constantes, con una variación mínima. Esto es de esperarse ya que el algortimo de búsqueda binaria tine una complejidad de $O(\\log n)$. Sin embargo, sí se observa un incremento considerable número de asignaciones, esto se puede atribuir al tamaño de los números que integran las listas de consulta. "
   ]
  },
  {
   "cell_type": "markdown",
   "id": "5fa366eb-9342-4856-a6a8-c20d4ff71080",
   "metadata": {},
   "source": [
    "## Búsqueda secuencial o lineal  $B_0$\n",
    "\n",
    "De acuerdo con Knuth (1998) Dada una tabla de registros $R_1, R_2, \\dots, R_N$, cuyas claves respectivas son $K_1, K_2, \\dots, K_N$, este algoritmo busca un argumento dado $K$. Suponemos que $N \\geq 1$.\n",
    "\n",
    "1. **[Inicialización.]** Establecer $i \\gets 1$.\n",
    "2. **[Comparación.]** Si $K = K_i$, el algoritmo termina con éxito.\n",
    "3. **[Avance.]** Aumentar $i$ en 1.\n",
    "4. **[¿Fin de archivo?]** Si $i \\leq N$, regresar al paso 2. De lo contrario, el algoritmo termina sin éxito.\n",
    "\n",
    "La complejidad de este algoritmo en el peor caso es $O(n)$\n",
    "\n"
   ]
  },
  {
   "cell_type": "code",
   "execution_count": 6,
   "id": "67e9e4fb-3a2a-44d2-bacc-b34ccd6f2527",
   "metadata": {},
   "outputs": [
    {
     "data": {
      "text/plain": [
       "procesar_archivo_y_buscar_lineal (generic function with 1 method)"
      ]
     },
     "execution_count": 6,
     "metadata": {},
     "output_type": "execute_result"
    }
   ],
   "source": [
    "function busqueda_lineal(arr, valor, contador)\n",
    "    for (i, elemento) in enumerate(arr)\n",
    "        contador[] += 1  # Incrementar contador de comparaciones\n",
    "        if elemento >= valor\n",
    "            return i  # Devuelve la posición de inserción\n",
    "        end\n",
    "    end\n",
    "    return length(arr) + 1  # Insertar al final si todos los elementos son menores\n",
    "end\n",
    "\n",
    "\n",
    "function buscar_lineal_en_listas(datos_ordenados, elementos_a_buscar)\n",
    "    # Contador de comparaciones (usamos un Ref para poder modificarlo en las funciones)\n",
    "    total_comparaciones = Ref(0)\n",
    "    \n",
    "    # Diccionario para guardar resultados por clave\n",
    "    resultados = Dict{String, Dict}()\n",
    "    \n",
    "    for (clave, arr) in datos_ordenados\n",
    "        resultados_clave = Dict{Any, Any}()\n",
    "        comparaciones_clave = 0\n",
    "        \n",
    "        for elemento in elementos_a_buscar\n",
    "            # Realizar búsqueda lineal\n",
    "            posicion = busqueda_lineal(arr, elemento, total_comparaciones)\n",
    "            resultados_clave[elemento] = posicion != -1 ? \"Encontrado en posición $posicion\" : \"No encontrado\"\n",
    "        end\n",
    "        \n",
    "        resultados[clave] = resultados_clave\n",
    "    end\n",
    "    \n",
    "    # Devolver resultados y total de comparaciones\n",
    "    return resultados, total_comparaciones[]\n",
    "end\n",
    "\n",
    "# Función completa para cargar y buscar \n",
    "function procesar_archivo_y_buscar_lineal(datos_ordenados, elementos_a_buscar)\n",
    "\n",
    "    #Realizar búsquedas lineales en las listas\n",
    "    resultados, total_comparaciones = buscar_lineal_en_listas(datos_ordenados, elementos_a_buscar)\n",
    "    \n",
    "    println(\"Total de comparaciones realizadas (lineal): $total_comparaciones\")\n",
    "    return resultados\n",
    "end"
   ]
  },
  {
   "cell_type": "code",
   "execution_count": 7,
   "id": "18d22892-3016-4a40-8b99-d0d0e306875f",
   "metadata": {},
   "outputs": [
    {
     "name": "stdout",
     "output_type": "stream",
     "text": [
      "Total de comparaciones realizadas (lineal): 1285284\n",
      "  1.085884 seconds (5.08 M allocations: 194.840 MiB, 49.78% gc time, 60.72% compilation time)\n",
      "Total de comparaciones realizadas (lineal): 6025401\n",
      "  0.574643 seconds (5.04 M allocations: 193.952 MiB, 6.19% gc time, 0.51% compilation time)\n",
      "Total de comparaciones realizadas (lineal): 76747269\n",
      "  3.351496 seconds (81.82 M allocations: 1.371 GiB, 14.31% gc time)\n",
      "Total de comparaciones realizadas (lineal): 989149917\n",
      " 45.471095 seconds (996.18 M allocations: 14.996 GiB, 6.26% gc time)\n"
     ]
    },
    {
     "data": {
      "text/plain": [
       "Dict{String, Dict} with 100 entries:\n",
       "  \"reunion\"      => Dict{Any, Any}(31905=>\"Encontrado en posición 1712\", 4700=>…\n",
       "  \"virtual\"      => Dict{Any, Any}(31905=>\"Encontrado en posición 712\", 4700=>\"…\n",
       "  \"julio\"        => Dict{Any, Any}(31905=>\"Encontrado en posición 439\", 4700=>\"…\n",
       "  \"votos\"        => Dict{Any, Any}(31905=>\"Encontrado en posición 752\", 4700=>\"…\n",
       "  \"propuesta\"    => Dict{Any, Any}(31905=>\"Encontrado en posición 286\", 4700=>\"…\n",
       "  \"nacional\"     => Dict{Any, Any}(31905=>\"Encontrado en posición 1530\", 4700=>…\n",
       "  \"electoral\"    => Dict{Any, Any}(31905=>\"Encontrado en posición 670\", 4700=>\"…\n",
       "  \"@m_ebrard\"    => Dict{Any, Any}(31905=>\"Encontrado en posición 309\", 4700=>\"…\n",
       "  \"jovenes\"      => Dict{Any, Any}(31905=>\"Encontrado en posición 424\", 4700=>\"…\n",
       "  \"_num\"         => Dict{Any, Any}(31905=>\"Encontrado en posición 4212\", 4700=>…\n",
       "  \"aqui\"         => Dict{Any, Any}(31905=>\"Encontrado en posición 440\", 4700=>\"…\n",
       "  \"mayor\"        => Dict{Any, Any}(31905=>\"Encontrado en posición 323\", 4700=>\"…\n",
       "  \"#envivo\"      => Dict{Any, Any}(31905=>\"Encontrado en posición 606\", 4700=>\"…\n",
       "  \"👉\"           => Dict{Any, Any}(31905=>\"Encontrado en posición 345\", 4700=>\"…\n",
       "  \"mexico\"       => Dict{Any, Any}(31905=>\"Encontrado en posición 2852\", 4700=>…\n",
       "  \"@epn\"         => Dict{Any, Any}(31905=>\"Encontrado en posición 2158\", 4700=>…\n",
       "  \"poder\"        => Dict{Any, Any}(31905=>\"Encontrado en posición 434\", 4700=>\"…\n",
       "  \"pri\"          => Dict{Any, Any}(31905=>\"Encontrado en posición 532\", 4700=>\"…\n",
       "  \"encuentro\"    => Dict{Any, Any}(31905=>\"Encontrado en posición 647\", 4700=>\"…\n",
       "  \"pena\"         => Dict{Any, Any}(31905=>\"Encontrado en posición 2500\", 4700=>…\n",
       "  \"gano\"         => Dict{Any, Any}(31905=>\"Encontrado en posición 495\", 4700=>\"…\n",
       "  \"reune\"        => Dict{Any, Any}(31905=>\"Encontrado en posición 388\", 4700=>\"…\n",
       "  \"plan\"         => Dict{Any, Any}(31905=>\"Encontrado en posición 358\", 4700=>\"…\n",
       "  \"presidencial\" => Dict{Any, Any}(31905=>\"Encontrado en posición 680\", 4700=>\"…\n",
       "  \"resultados\"   => Dict{Any, Any}(31905=>\"Encontrado en posición 469\", 4700=>\"…\n",
       "  ⋮              => ⋮"
      ]
     },
     "execution_count": 7,
     "metadata": {},
     "output_type": "execute_result"
    }
   ],
   "source": [
    "@time begin \n",
    "    procesar_archivo_y_buscar_lineal(lista,consultas1)\n",
    "end\n",
    "@time begin \n",
    "    procesar_archivo_y_buscar_lineal(lista,consultas2)\n",
    "end\n",
    "@time begin \n",
    "    procesar_archivo_y_buscar_lineal(lista,consultas3)\n",
    "end\n",
    "@time begin \n",
    "    procesar_archivo_y_buscar_lineal(lista,consultas4)\n",
    "end"
   ]
  },
  {
   "cell_type": "markdown",
   "id": "7349cec5-33d6-4672-b966-5ab993d5e208",
   "metadata": {},
   "source": [
    "Podemos observar que los tiempos de ejecuciones y número de comparaciones de este algoritmo aumentaron de manera significativa respecto al de búsqueda binaria, esto es porque la complejidad depende de la posición del valor buscado y de si se encuentra o no, siendo el peor caso $O(n)$. Podemos observar que muchos de los valores que buscó no fueron encontrados para lo que el algoritmo comparó el valor buscado con todos los elementos de la lista antes de concluir que no está presente, es decir se comportó múltiples veces como el peor caso. Esto explica el aumento en varios órdenes en tiempos de ejecución y comparaciones."
   ]
  },
  {
   "cell_type": "markdown",
   "id": "393e50e7-8681-4adc-9c79-807d3ea59cdf",
   "metadata": {},
   "source": [
    "## Búsqueda no acotada  $B_1$\n",
    "\n",
    "Baeza-Yates y Salinger (2010) mencionan que el algoritmo de búsqueda exponencial, que se utiliza para localizar un elemento en un conjunto ordenado de manera eficiente consiste en dos fases:\n",
    "\n",
    "Fase 1: El proceso comienza seleccionando un elemento y buscándolo en otro conjunto mediante saltos exponenciales (1, 2, 4, ...). hasta que el salto supera la posición del elemento buscado.\n",
    "\n",
    "Fase 2: Se realiza búsqueda binaria en el rango detectado. Esta estrategia, conocida como búsqueda galopante, imita la búsqueda binaria en secuencias no acotadas y mantiene una complejidad de $O(\\log p)$ donde $p$ es la posición de inserción.\n"
   ]
  },
  {
   "cell_type": "code",
   "execution_count": 46,
   "id": "9b96278d-ad20-4ecb-b188-753927458061",
   "metadata": {},
   "outputs": [
    {
     "data": {
      "text/plain": [
       "procesar_archivo_y_buscar_doubling (generic function with 1 method)"
      ]
     },
     "execution_count": 46,
     "metadata": {},
     "output_type": "execute_result"
    }
   ],
   "source": [
    "using JSON\n",
    "\n",
    "function busqueda_doubling(arr, valor, contador)\n",
    "    n = length(arr)\n",
    "    \n",
    "\n",
    "    # Fase 1: Búsqueda exponencial para encontrar el rango\n",
    "    if arr[1] == valor\n",
    "        contador[] += 1\n",
    "        return 1\n",
    "    end\n",
    "    \n",
    "    indice = 2  # Comenzamos desde el segundo elemento (índice 1 ya verificado)\n",
    "    while indice <= n && arr[indice] < valor\n",
    "        contador[] += 1  # Comparación arr[indice] < valor\n",
    "        indice *= 2\n",
    "    end\n",
    "    \n",
    "    # Ajustar los límites para la búsqueda binaria\n",
    "    bajo = indice ÷ 2\n",
    "    alto = min(indice, n)\n",
    "    \n",
    "    # Fase 2: Búsqueda binaria dentro del rango encontrado\n",
    "    while bajo <= alto\n",
    "        medio = (bajo + alto) ÷ 2\n",
    "        contador[] += 1  # Comparación arr[medio] == valor\n",
    "        \n",
    "        if arr[medio] == valor\n",
    "            return medio\n",
    "        elseif arr[medio] < valor\n",
    "            bajo = medio + 1\n",
    "        else\n",
    "            alto = medio - 1\n",
    "        end\n",
    "    end\n",
    "    \n",
    "    return -1  # Elemento no encontrado\n",
    "end\n",
    "\n",
    "function buscar_con_doubling(datos_ordenados, elementos_a_buscar)\n",
    "    # Contador de comparaciones\n",
    "    total_comparaciones = Ref(0)\n",
    "    \n",
    "    # Diccionario para resultados\n",
    "    resultados = Dict{String, Dict}()\n",
    "    \n",
    "    for (clave, arr) in datos_ordenados\n",
    "        resultados_clave = Dict{Any, Any}()\n",
    "        \n",
    "        for elemento in elementos_a_buscar\n",
    "            posicion = busqueda_doubling(arr, elemento, total_comparaciones)\n",
    "            resultados_clave[elemento] = posicion != -1 ? \"Encontrado en posición $posicion\" : \"No encontrado\"\n",
    "        end\n",
    "        \n",
    "        resultados[clave] = resultados_clave\n",
    "    end\n",
    "    \n",
    "    return resultados, total_comparaciones[]\n",
    "end\n",
    "\n",
    "function procesar_archivo_y_buscar_doubling(datos_ordenados, elementos_a_buscar)\n",
    "    \n",
    "    #Realizar búsquedas con doubling search\n",
    "    resultados, total_comparaciones = buscar_con_doubling(datos_ordenados, elementos_a_buscar)\n",
    "    \n",
    "    println(\"Total de comparaciones realizadas (doubling search): $total_comparaciones\")\n",
    "    return resultados\n",
    "end"
   ]
  },
  {
   "cell_type": "code",
   "execution_count": 47,
   "id": "bf82570c-429e-4eea-bf14-f48c538fd4d3",
   "metadata": {},
   "outputs": [
    {
     "name": "stdout",
     "output_type": "stream",
     "text": [
      "Total de comparaciones realizadas (doubling search): 1228088\n",
      "  0.480016 seconds (257.94 k allocations: 10.365 MiB, 34.07% compilation time)\n",
      "Total de comparaciones realizadas (doubling search): 2917009\n",
      "  0.363662 seconds (247.15 k allocations: 11.062 MiB)\n",
      "Total de comparaciones realizadas (doubling search): 8181939\n",
      "  1.246572 seconds (15.08 M allocations: 275.526 MiB)\n",
      "Total de comparaciones realizadas (doubling search): 15754351\n",
      "  2.742887 seconds (27.03 M allocations: 457.676 MiB)\n"
     ]
    },
    {
     "data": {
      "text/plain": [
       "Dict{String, Dict} with 100 entries:\n",
       "  \"reunion\"      => Dict{Any, Any}(31905=>\"No encontrado\", 4700=>\"No encontrado…\n",
       "  \"virtual\"      => Dict{Any, Any}(31905=>\"No encontrado\", 4700=>\"No encontrado…\n",
       "  \"julio\"        => Dict{Any, Any}(31905=>\"No encontrado\", 4700=>\"No encontrado…\n",
       "  \"votos\"        => Dict{Any, Any}(31905=>\"No encontrado\", 4700=>\"No encontrado…\n",
       "  \"propuesta\"    => Dict{Any, Any}(31905=>\"No encontrado\", 4700=>\"No encontrado…\n",
       "  \"nacional\"     => Dict{Any, Any}(31905=>\"No encontrado\", 4700=>\"No encontrado…\n",
       "  \"electoral\"    => Dict{Any, Any}(31905=>\"No encontrado\", 4700=>\"No encontrado…\n",
       "  \"@m_ebrard\"    => Dict{Any, Any}(31905=>\"No encontrado\", 4700=>\"No encontrado…\n",
       "  \"jovenes\"      => Dict{Any, Any}(31905=>\"No encontrado\", 4700=>\"No encontrado…\n",
       "  \"_num\"         => Dict{Any, Any}(31905=>\"Encontrado en posición 4212\", 4700=>…\n",
       "  \"aqui\"         => Dict{Any, Any}(31905=>\"No encontrado\", 4700=>\"No encontrado…\n",
       "  \"mayor\"        => Dict{Any, Any}(31905=>\"No encontrado\", 4700=>\"No encontrado…\n",
       "  \"#envivo\"      => Dict{Any, Any}(31905=>\"No encontrado\", 4700=>\"No encontrado…\n",
       "  \"👉\"           => Dict{Any, Any}(31905=>\"No encontrado\", 4700=>\"No encontrado…\n",
       "  \"mexico\"       => Dict{Any, Any}(31905=>\"No encontrado\", 4700=>\"No encontrado…\n",
       "  \"@epn\"         => Dict{Any, Any}(31905=>\"No encontrado\", 4700=>\"No encontrado…\n",
       "  \"poder\"        => Dict{Any, Any}(31905=>\"No encontrado\", 4700=>\"No encontrado…\n",
       "  \"pri\"          => Dict{Any, Any}(31905=>\"No encontrado\", 4700=>\"No encontrado…\n",
       "  \"encuentro\"    => Dict{Any, Any}(31905=>\"No encontrado\", 4700=>\"No encontrado…\n",
       "  \"pena\"         => Dict{Any, Any}(31905=>\"No encontrado\", 4700=>\"No encontrado…\n",
       "  \"gano\"         => Dict{Any, Any}(31905=>\"No encontrado\", 4700=>\"No encontrado…\n",
       "  \"reune\"        => Dict{Any, Any}(31905=>\"No encontrado\", 4700=>\"No encontrado…\n",
       "  \"plan\"         => Dict{Any, Any}(31905=>\"No encontrado\", 4700=>\"No encontrado…\n",
       "  \"presidencial\" => Dict{Any, Any}(31905=>\"No encontrado\", 4700=>\"No encontrado…\n",
       "  \"resultados\"   => Dict{Any, Any}(31905=>\"No encontrado\", 4700=>\"No encontrado…\n",
       "  ⋮              => ⋮"
      ]
     },
     "execution_count": 47,
     "metadata": {},
     "output_type": "execute_result"
    }
   ],
   "source": [
    "@time begin \n",
    "    procesar_archivo_y_buscar_doubling(lista,consultas1)\n",
    "end\n",
    "@time begin \n",
    "    procesar_archivo_y_buscar_doubling(lista,consultas2)\n",
    "end\n",
    "@time begin \n",
    "    procesar_archivo_y_buscar_doubling(lista,consultas3)\n",
    "end\n",
    "@time begin \n",
    "    procesar_archivo_y_buscar_doubling(lista,consultas4)\n",
    "end"
   ]
  },
  {
   "cell_type": "markdown",
   "id": "d53c6bde-1243-4701-a1fd-0b4c701006c2",
   "metadata": {},
   "source": [
    "Aquí podemos observar tiempos de ejecución y número de comparaciones similares a aquellos observados en búsqueda binaria lo cual es esperable ya que tiene un peor caso de $ O(\\log n) $, sin embargo $B_1$ ofrece la ventaja que mientras más cercano esté el valor buscado al inicio de la lista puede ser más rápido que búsqueda binaria. Esto se aprecia claramente con las dos primeras listas de consultas, se ejecutan en menor tiempo y con menos número de comparaciones que Busqueda binaria, esto es porque los valores son menores y están más cerca del inicio de la lista si es que existen. "
   ]
  },
  {
   "cell_type": "markdown",
   "id": "e71c1020-6ff5-42ba-a484-dbbb082822a9",
   "metadata": {},
   "source": [
    "## Búsqueda no acotada $B_2$\n",
    "\n",
    "Similar a $B_1$ pero en lugar de aumentar el rango de búsqueda en potencias de 2 (como en $B_1$: $1, 2, 4, 8, 16, \\dots$),\n",
    "\n",
    "$B_2$ podría usa potencias de potencias, como $2^{2^k}$:\n",
    "\n",
    "Ejemplo: $2, 4, 16, 256, 65536, \\dots$\n",
    "\n",
    "Tiene complejidad de $O(\\log p)$ donde $p$ es la posición de inserción."
   ]
  },
  {
   "cell_type": "code",
   "execution_count": 60,
   "id": "837854f3-e3b2-42c2-816f-defccbd84dc4",
   "metadata": {},
   "outputs": [
    {
     "data": {
      "text/plain": [
       "procesar_archivo_y_buscar_dd (generic function with 1 method)"
      ]
     },
     "execution_count": 60,
     "metadata": {},
     "output_type": "execute_result"
    }
   ],
   "source": [
    "using JSON\n",
    "\n",
    "function busqueda_doblemente_doblada(arr, valor, contador)\n",
    "    n = length(arr)\n",
    "    \n",
    "    # Verificar el primer elemento\n",
    "    contador[] += 1\n",
    "    arr[1] == valor && return 1\n",
    "    \n",
    "    # Fase 1: Búsqueda doblemente doblada \n",
    "    indice = 2\n",
    "    while indice <= n\n",
    "        # Comparar el elemento actual\n",
    "        contador[] += 1\n",
    "        if arr[indice] == valor\n",
    "            return indice\n",
    "        elseif arr[indice] > valor\n",
    "            break\n",
    "        end\n",
    "        \n",
    "        # Aumentamos el índice de manera más agresiva \n",
    "        indice_previo = indice\n",
    "        indice *= indice\n",
    "        \n",
    "        # Verificar si nos pasamos del array\n",
    "        if indice > n\n",
    "            # Retroceder y hacer búsqueda binaria entre indice_previo y n\n",
    "            indice = n\n",
    "            break\n",
    "        end\n",
    "    end\n",
    "    \n",
    "    # Ajustar los límites para la búsqueda binaria\n",
    "    bajo = max(indice ÷ 4, 1)  # Retrocedemos un paso\n",
    "    alto = min(indice, n)\n",
    "    \n",
    "    # Fase 2: Búsqueda binaria precisa\n",
    "    while bajo <= alto\n",
    "        medio = (bajo + alto) ÷ 2\n",
    "        contador[] += 1\n",
    "        \n",
    "        if arr[medio] == valor\n",
    "            return medio\n",
    "        elseif arr[medio] < valor\n",
    "            bajo = medio + 1\n",
    "        else\n",
    "            alto = medio - 1\n",
    "        end\n",
    "    end\n",
    "    \n",
    "    return -1\n",
    "end\n",
    "\n",
    "function buscar_con_doblemente_doblada(datos_ordenados, elementos_a_buscar)\n",
    "    total_comparaciones = Ref(0)\n",
    "    resultados = Dict{String, Dict}()\n",
    "    \n",
    "    for (clave, arr) in datos_ordenados\n",
    "        resultados_clave = Dict{Any, Any}()\n",
    "        \n",
    "        for elemento in elementos_a_buscar\n",
    "            posicion = busqueda_doblemente_doblada(arr, elemento, total_comparaciones)\n",
    "            resultados_clave[elemento] = posicion != -1 ? \"Encontrado en posición $posicion\" : \"No encontrado\"\n",
    "        end\n",
    "        \n",
    "        resultados[clave] = resultados_clave\n",
    "    end\n",
    "    \n",
    "    return resultados, total_comparaciones[]\n",
    "end\n",
    "\n",
    "function procesar_archivo_y_buscar_dd(datos_ordenados, elementos_a_buscar)\n",
    "\n",
    "    resultados, total_comparaciones = buscar_con_doblemente_doblada(datos_ordenados, elementos_a_buscar)\n",
    "    \n",
    "    println(\"Total de comparaciones realizadas (doubling-doubling search): $total_comparaciones\")\n",
    "    return resultados\n",
    "end"
   ]
  },
  {
   "cell_type": "code",
   "execution_count": 61,
   "id": "463e3db1-6106-490d-929c-1ca8779f1f6a",
   "metadata": {},
   "outputs": [
    {
     "name": "stdout",
     "output_type": "stream",
     "text": [
      "Total de comparaciones realizadas (doubling-doubling search): 3197982\n",
      "  0.417825 seconds (261.24 k allocations: 10.552 MiB, 24.58% compilation time)\n",
      "Total de comparaciones realizadas (doubling-doubling search): 5158847\n",
      "  0.420363 seconds (183.97 k allocations: 8.652 MiB)\n",
      "Total de comparaciones realizadas (doubling-doubling search): 10121250\n",
      "  3.014676 seconds (19.33 M allocations: 337.420 MiB, 67.26% gc time)\n",
      "Total de comparaciones realizadas (doubling-doubling search): 13909594\n",
      "  1.143733 seconds (28.57 M allocations: 480.533 MiB)\n"
     ]
    },
    {
     "data": {
      "text/plain": [
       "Dict{String, Dict} with 100 entries:\n",
       "  \"reunion\"      => Dict{Any, Any}(31905=>\"No encontrado\", 4700=>\"No encontrado…\n",
       "  \"virtual\"      => Dict{Any, Any}(31905=>\"No encontrado\", 4700=>\"No encontrado…\n",
       "  \"julio\"        => Dict{Any, Any}(31905=>\"No encontrado\", 4700=>\"No encontrado…\n",
       "  \"votos\"        => Dict{Any, Any}(31905=>\"No encontrado\", 4700=>\"No encontrado…\n",
       "  \"propuesta\"    => Dict{Any, Any}(31905=>\"No encontrado\", 4700=>\"No encontrado…\n",
       "  \"nacional\"     => Dict{Any, Any}(31905=>\"No encontrado\", 4700=>\"No encontrado…\n",
       "  \"electoral\"    => Dict{Any, Any}(31905=>\"No encontrado\", 4700=>\"No encontrado…\n",
       "  \"@m_ebrard\"    => Dict{Any, Any}(31905=>\"No encontrado\", 4700=>\"No encontrado…\n",
       "  \"jovenes\"      => Dict{Any, Any}(31905=>\"No encontrado\", 4700=>\"No encontrado…\n",
       "  \"_num\"         => Dict{Any, Any}(31905=>\"Encontrado en posición 4212\", 4700=>…\n",
       "  \"aqui\"         => Dict{Any, Any}(31905=>\"No encontrado\", 4700=>\"No encontrado…\n",
       "  \"mayor\"        => Dict{Any, Any}(31905=>\"No encontrado\", 4700=>\"No encontrado…\n",
       "  \"#envivo\"      => Dict{Any, Any}(31905=>\"No encontrado\", 4700=>\"No encontrado…\n",
       "  \"👉\"           => Dict{Any, Any}(31905=>\"No encontrado\", 4700=>\"No encontrado…\n",
       "  \"mexico\"       => Dict{Any, Any}(31905=>\"No encontrado\", 4700=>\"No encontrado…\n",
       "  \"@epn\"         => Dict{Any, Any}(31905=>\"No encontrado\", 4700=>\"No encontrado…\n",
       "  \"poder\"        => Dict{Any, Any}(31905=>\"No encontrado\", 4700=>\"No encontrado…\n",
       "  \"pri\"          => Dict{Any, Any}(31905=>\"No encontrado\", 4700=>\"No encontrado…\n",
       "  \"encuentro\"    => Dict{Any, Any}(31905=>\"No encontrado\", 4700=>\"No encontrado…\n",
       "  \"pena\"         => Dict{Any, Any}(31905=>\"No encontrado\", 4700=>\"No encontrado…\n",
       "  \"gano\"         => Dict{Any, Any}(31905=>\"No encontrado\", 4700=>\"No encontrado…\n",
       "  \"reune\"        => Dict{Any, Any}(31905=>\"No encontrado\", 4700=>\"No encontrado…\n",
       "  \"plan\"         => Dict{Any, Any}(31905=>\"No encontrado\", 4700=>\"No encontrado…\n",
       "  \"presidencial\" => Dict{Any, Any}(31905=>\"No encontrado\", 4700=>\"No encontrado…\n",
       "  \"resultados\"   => Dict{Any, Any}(31905=>\"No encontrado\", 4700=>\"No encontrado…\n",
       "  ⋮              => ⋮"
      ]
     },
     "execution_count": 61,
     "metadata": {},
     "output_type": "execute_result"
    }
   ],
   "source": [
    "@time begin \n",
    "    procesar_archivo_y_buscar_dd(lista,consultas1)\n",
    "end\n",
    "@time begin \n",
    "    procesar_archivo_y_buscar_dd(lista,consultas2)\n",
    "end\n",
    "@time begin \n",
    "    procesar_archivo_y_buscar_dd(lista,consultas3)\n",
    "end\n",
    "@time begin \n",
    "    procesar_archivo_y_buscar_dd(lista,consultas4)\n",
    "end"
   ]
  },
  {
   "cell_type": "markdown",
   "id": "bac38f3c-c107-4af8-9dc8-4006e67fd041",
   "metadata": {},
   "source": [
    "Como podemos ver $B_2$ no muestra diferencias significativas respecto a $B_1$, en términos de tiempo de ejecución se muestra similar y en número de comparaciones también está dentro del mismo orden de magnitud. Este algoritmo podría ser más últil en busquedas dentro de listas de un tamaño mucho mayor a las usadas en este experimento, ya que su fase de expansión crece de manera más acelerada. "
   ]
  },
  {
   "cell_type": "markdown",
   "id": "1caec327-0b69-4600-9d97-2ee5a50adc0d",
   "metadata": {},
   "source": [
    "## Búsqueda mediante la estructura de datos SkipList\n",
    "\n",
    " Pugh (1990) propuso como una alternativa simple y eficiente a estructuras de datos balanceadas como los árboles de búsqueda. Una SkipList es una lista enlazada jerárquica con múltiples niveles. Cada nivel es una sublista de los niveles inferiores, lo que permite realizar búsquedas en $O(logn)$ en promedio.\n",
    " \n",
    "Se empieza en el nivel más alto y se desciende progresivamente hasta encontrar el elemento deseado.Se asigna un nivel aleatorio al nuevo nodo y se insertan enlaces en los niveles correspondientes. Se eliminan los enlaces del nodo en cada nivel en el que aparece.\n",
    "\n",
    "Dependen de la asignación aleatoria de niveles a los nodos, lo que en promedio garantiza una estructura balanceada sin necesidad de reestructuración explícita.\n",
    "\n",
    " Aunque el peor caso es $O(n)$, este es muy poco probable, y en la práctica, el tiempo esperado para búsqueda, inserción y eliminación es $O(logn)$. (Pugh, 1990)"
   ]
  },
  {
   "cell_type": "code",
   "execution_count": 18,
   "id": "a4956054-1879-47e4-887a-f87db9ac366c",
   "metadata": {},
   "outputs": [],
   "source": [
    "# Se cambia el tipo de datos en las listas del diccionario a enteros, para que el algortimo pueda funcionar correctamente\n",
    "for clave in keys(lista)\n",
    "    lista[clave] = [Int(x) for x in lista[clave]]\n",
    "end"
   ]
  },
  {
   "cell_type": "code",
   "execution_count": 19,
   "id": "c9f0c257-03e6-480a-820c-514ddffa8a7e",
   "metadata": {},
   "outputs": [
    {
     "data": {
      "text/plain": [
       "procesar_archivo_con_skip_lists (generic function with 2 methods)"
      ]
     },
     "execution_count": 19,
     "metadata": {},
     "output_type": "execute_result"
    }
   ],
   "source": [
    "using Random\n",
    "\n",
    "# Estructura de nodo para la Skip List\n",
    "mutable struct SkipNode\n",
    "    value::Int\n",
    "    forward::Vector{Union{SkipNode, Nothing}}  # Array de punteros forward\n",
    "end\n",
    "\n",
    "# Estructura de la Skip List\n",
    "mutable struct SkipList\n",
    "    header::SkipNode\n",
    "    level::Int\n",
    "    max_level::Int\n",
    "    p::Float64  # Probabilidad para los niveles\n",
    "end\n",
    "\n",
    "# Función para crear un nuevo nodo\n",
    "function create_node(value::Int, level::Int)\n",
    "    SkipNode(value, [nothing for _ in 1:level])\n",
    "end\n",
    "\n",
    "# Función para inicializar una Skip List\n",
    "function create_skip_list(max_level::Int, p::Float64=0.5)\n",
    "    header = create_node(-1, max_level)  # Valor -1 como cabeza\n",
    "    SkipList(header, 1, max_level, p)\n",
    "end\n",
    "\n",
    "# Función para determinar el nivel aleatorio de un nuevo nodo\n",
    "function random_level(skip_list::SkipList)\n",
    "    level = 1\n",
    "    while rand() < skip_list.p && level < skip_list.max_level\n",
    "        level += 1\n",
    "    end\n",
    "    return level\n",
    "end\n",
    "\n",
    "# Función para insertar un valor en la Skip List\n",
    "function insert!(skip_list::SkipList, value::Int)\n",
    "    update = [nothing for _ in 1:skip_list.max_level]\n",
    "    current = skip_list.header\n",
    "    \n",
    "    # Buscar la posición de inserción\n",
    "    for i in skip_list.level:-1:1\n",
    "        while current.forward[i] !== nothing && current.forward[i].value < value\n",
    "            current = current.forward[i]\n",
    "        end\n",
    "        update[i] = current\n",
    "    end\n",
    "    \n",
    "    current = current.forward[1]\n",
    "    \n",
    "    # Si el valor no existe, insertarlo\n",
    "    if current === nothing || current.value != value\n",
    "        new_level = random_level(skip_list)\n",
    "        \n",
    "        # Ajustar el nivel de la Skip List si es necesario\n",
    "        if new_level > skip_list.level\n",
    "            for i in skip_list.level+1:new_level\n",
    "                update[i] = skip_list.header\n",
    "            end\n",
    "            skip_list.level = new_level\n",
    "        end\n",
    "        \n",
    "        # Crear el nuevo nodo\n",
    "        new_node = create_node(value, new_level)\n",
    "        \n",
    "        # Insertar el nodo\n",
    "        for i in 1:new_level\n",
    "            new_node.forward[i] = update[i].forward[i]\n",
    "            update[i].forward[i] = new_node\n",
    "        end\n",
    "    end\n",
    "end\n",
    "\n",
    "# Función de búsqueda en la Skip List (con contador de comparaciones)\n",
    "function search(skip_list::SkipList, value::Int, counter::Ref{Int}=Ref(0))\n",
    "    current = skip_list.header\n",
    "    \n",
    "    # Buscar desde el nivel más alto hacia abajo\n",
    "    for i in skip_list.level:-1:1\n",
    "        while current.forward[i] !== nothing\n",
    "            counter[] += 1  # Contar la comparación\n",
    "            if current.forward[i].value == value\n",
    "                return true  # Valor encontrado\n",
    "            elseif current.forward[i].value < value\n",
    "                current = current.forward[i]\n",
    "            else\n",
    "                break\n",
    "            end\n",
    "        end\n",
    "    end\n",
    "    \n",
    "    # Verificar en el nivel más bajo\n",
    "    current = current.forward[1]\n",
    "    if current !== nothing && current.value == value\n",
    "        counter[] += 1\n",
    "        return true\n",
    "    end\n",
    "    \n",
    "    return false  # Valor no encontrado\n",
    "end\n",
    "\n",
    "# Función para construir Skip List desde un array ordenado\n",
    "function build_skip_list(sorted_array::Vector{Int}, max_level::Int=16, p::Float64=0.5)\n",
    "    skip_list = create_skip_list(max_level, p)\n",
    "    for value in sorted_array\n",
    "        insert!(skip_list, value)\n",
    "    end\n",
    "    return skip_list\n",
    "end\n",
    "\n",
    "# Función principal para buscar en múltiples listas\n",
    "function buscar_con_skip_lists(datos_ordenados, elementos_a_buscar)\n",
    "    total_comparaciones = Ref(0)\n",
    "    resultados = Dict{String, Dict}()\n",
    "    \n",
    "    for (clave, arr) in datos_ordenados\n",
    "        resultados_clave = Dict{Any, Any}()\n",
    "        \n",
    "        # Construir la Skip List para esta lista ordenada\n",
    "        skip_list = build_skip_list(arr)\n",
    "        \n",
    "        for elemento in elementos_a_buscar\n",
    "            counter = Ref(0)\n",
    "            encontrado = search(skip_list, elemento, counter)\n",
    "            total_comparaciones[] += counter[]\n",
    "            resultados_clave[elemento] = encontrado ? \"Encontrado\" : \"No encontrado\"\n",
    "        end\n",
    "        \n",
    "        resultados[clave] = resultados_clave\n",
    "    end\n",
    "    \n",
    "    return resultados, total_comparaciones[]\n",
    "end\n",
    "\n",
    "# Función completa para procesar archivos\n",
    "function procesar_archivo_con_skip_lists(datos_ordenados, elementos_a_buscar)\n",
    "    #datos_ordenados = ordenar_json(p)\n",
    "    resultados, total_comparaciones = buscar_con_skip_lists(datos_ordenados, elementos_a_buscar)\n",
    "    \n",
    "    println(\"Total de comparaciones realizadas (Skip List): $total_comparaciones\")\n",
    "    return resultados\n",
    "end"
   ]
  },
  {
   "cell_type": "code",
   "execution_count": 20,
   "id": "571ae3cf-96af-4ea9-a7b9-43109d8addf2",
   "metadata": {
    "scrolled": true
   },
   "outputs": [
    {
     "ename": "LoadError",
     "evalue": "cannot convert a value to nothing for assignment",
     "output_type": "error",
     "traceback": [
      "cannot convert a value to nothing for assignment",
      "",
      "Stacktrace:",
      "  [1] error(s::String)",
      "    @ Base .\\error.jl:35",
      "  [2] nonnothingtype_checked(T::Type)",
      "    @ Base .\\some.jl:32",
      "  [3] convert(::Type{Nothing}, x::SkipNode)",
      "    @ Base .\\some.jl:37",
      "  [4] setindex!(A::Vector{Nothing}, x::SkipNode, i::Int64)",
      "    @ Base .\\array.jl:987",
      "  [5] insert!(skip_list::SkipList, value::Int64)",
      "    @ Main .\\In[19]:47",
      "  [6] build_skip_list",
      "    @ .\\In[19]:107 [inlined]",
      "  [7] build_skip_list",
      "    @ .\\In[19]:105 [inlined]",
      "  [8] buscar_con_skip_lists(datos_ordenados::Dict{String, Any}, elementos_a_buscar::Vector{Any})",
      "    @ Main .\\In[19]:121",
      "  [9] procesar_archivo_con_skip_lists(datos_ordenados::Dict{String, Any}, elementos_a_buscar::Vector{Any})",
      "    @ Main .\\In[19]:139",
      " [10] top-level scope",
      "    @ In[20]:1"
     ]
    }
   ],
   "source": [
    "procesar_archivo_con_skip_lists(lista, consultas1)"
   ]
  },
  {
   "cell_type": "markdown",
   "id": "d1f894c0-3d05-426f-8c68-6af364b54451",
   "metadata": {},
   "source": [
    "## Discusión y resultados\n",
    "\n",
    "A continuación se muestran dos tablas en las que se resumen los resultados de los experimentos. Una de tiempos de ejecución y la otra de Número de comparaciones. "
   ]
  },
  {
   "cell_type": "markdown",
   "id": "21f90303-2c12-48a1-b8ff-057e4fd674cb",
   "metadata": {},
   "source": [
    "\n",
    "### Tabla. 1 Tiempo de ejecución en segundos de cada lista de consultas con su respectivo orden de magnitud para cada algoritmo.\n",
    "\n",
    "\\begin{array}{|l|c|c|c|c|}\n",
    "\\hline\n",
    " & \\textbf{B. binaria} & \\textbf{$B_0$} & \\textbf{$B_1$} & \\textbf{$B_2$} \\\\\n",
    "\\hline\n",
    "Consultas orden 10^0 & 0.857163 & 1.085884  & 0.480016 & 0.417825 \\\\\n",
    "Consultas orden 10^1 & 0.635125 & 0.574643  & 0.363662 & 0.420363 \\\\\n",
    "Consultas orden 10^2 & 1.125757 & 3.351496  & 1.246572 & 3.014676 \\\\\n",
    "Consultas orden 10^3 & 1.054306 & 45.471095  & 2.742887 & 1.143733 \\\\\n",
    "\\hline\n",
    "\\end{array}\n",
    "\n"
   ]
  },
  {
   "cell_type": "markdown",
   "id": "60569608-00c0-4959-8bd4-f0370ee9cc14",
   "metadata": {},
   "source": [
    "### Tabla. 2 Número de comparaciones realizadas de cada lista de consultas con su respectivo orden de magnitud para cada algoritmo.\n",
    "\n",
    "\n",
    "\\begin{array}{|l|c|c|c|c|}\n",
    "\\hline\n",
    " & \\textbf{B. binaria} & \\textbf{$B_0$} & \\textbf{$B_1$} & \\textbf{$B_2$} \\\\ \n",
    "\\hline\n",
    "\\text{Consultas orden }10^0 & 9.66 \\times 10^6 & 1.28 \\times 10^6 & 1.23 \\times 10^6 & 3.20 \\times 10^6 \\\\ \n",
    "\\text{Consultas orden }10^1 & 9.81 \\times 10^6 & 6.02 \\times 10^6 & 2.92 \\times 10^6 & 5.16 \\times 10^6 \\\\ \n",
    "\\text{Consultas orden }10^2 & 1.00 \\times 10^7 & 7.67 \\times 10^7 & 8.18 \\times 10^6 & 1.01 \\times 10^7 \\\\ \n",
    "\\text{Consultas orden }10^3 & 1.01 \\times 10^7 & 9.89 \\times 10^8 & 1.58 \\times 10^7 & 1.39 \\times 10^7 \\\\ \n",
    "\\hline\n",
    "\\end{array}\n"
   ]
  },
  {
   "cell_type": "markdown",
   "id": "99bcc2e3-d867-4ff3-b190-977dce048cc0",
   "metadata": {},
   "source": [
    "\n",
    "\n",
    "\n",
    "Los resultados experimentales permiten observar diferencias fundamentales en el comportamiento de los algoritmos de búsqueda analizados:\n",
    "\n",
    "### 1. Búsqueda Binaria\n",
    "Como era de esperarse por su complejidad teórica $O(\\log n)$, este algoritmo mantuvo tiempos de ejecución y número de comparaciones relativamente constantes, independientemente del orden de magnitud de los elementos en las listas de consulta (que variaban desde $10^0$ hasta $10^3$). Sin embargo, se registró un incremento notable en el número de asignaciones, lo cual puede atribuirse al manejo de números más grandes en las operaciones de comparación.\n",
    "\n",
    "### 2. Búsqueda no acotada Secuencial ($B_0$)\n",
    "Para las consultas de menor orden presento rendimientos comparables al resto de los algoritmos, incluso mejores que en búqueda binaria, pero para las de mayor orden presentó un deterioro significativo en el rendimiento, con tiempos de ejecución y comparaciones que aumentaron hasta un órden de magnitud respecto a los otros algoritmos. Esto se explica por su naturaleza $O(n)$ y porque, en muchos casos, el algoritmo operó en el peor escenario posible.\n",
    "\n",
    "### 3. Búsqueda no acotada ($B_1$)\n",
    "Mostró un rendimiento comparable al de la búsqueda binaria ($O(\\log n)$ en el peor caso), pero con una ventaja notable para valores cercanos al inicio de la lista. Esto fue particularmente evidente en las consultas con elementos de menor magnitud ($10^0$ y $10^1$).\n",
    "\n",
    "### 4. Búsqueda no acotada ($B_2$)\n",
    "No mostró diferencias significativas respecto a $B_1$ en este experimento, manteniéndose en el mismo orden de magnitud tanto en tiempo como en comparaciones.\n",
    "\n"
   ]
  },
  {
   "cell_type": "markdown",
   "id": "b66d7f05-b2e4-40df-80e8-575993c7e78e",
   "metadata": {},
   "source": [
    "## Conclusión\n",
    "\n",
    "De lo anterior se puede concluir que probablemente búsqueda binaria sea la opción más confiable para conjuntos ordenados de tamaño arbitrario, sin embargo, $B_1$ y $B_2$ mostraron ser alternativas fiables en todos los casos y con potencial para ser usados en contextos específicos, como tamaños de listas muy grandes o busqueda de valores cercanos al inicio de la lista. Finalmente la busqueda secuencial si bien es el algoritmo más simple, también demostró ser el más lento e ineficiente."
   ]
  },
  {
   "cell_type": "markdown",
   "id": "3721b045-8500-40c6-9c4a-4c04f8c23534",
   "metadata": {},
   "source": [
    "## Bibliografía\n",
    "\n",
    "Baeza-Yates, R., & Salinger, A. (2010). Fast intersection algorithms for sorted sequences. In T. Elomaa, H. Mannila, & P. Orponen (Eds.), Algorithms and applications: Essays dedicated to Esko Ukkonen on the occasion of his 60th birthday (pp. 45–61). Springer. https://doi.org/10.1007/978-3-642-12476-1_3\n",
    "\n",
    "Knuth, D. E. (1998). The art of computer programming (2ª ed.). Addison Wesley Longman, Inc.\n",
    "\n",
    "Pugh, W. (1990). Skip lists: A probabilistic alternative to balanced trees. Communications of the ACM, 33(6), 668-676. https://doi.org/10.1145/78973.78977"
   ]
  },
  {
   "cell_type": "code",
   "execution_count": null,
   "id": "368c4f8c-9151-450a-906f-64c16f3ac3d3",
   "metadata": {},
   "outputs": [],
   "source": []
  }
 ],
 "metadata": {
  "kernelspec": {
   "display_name": "Julia 1.11.3",
   "language": "julia",
   "name": "julia-1.11"
  },
  "language_info": {
   "file_extension": ".jl",
   "mimetype": "application/julia",
   "name": "julia",
   "version": "1.11.3"
  }
 },
 "nbformat": 4,
 "nbformat_minor": 5
}
