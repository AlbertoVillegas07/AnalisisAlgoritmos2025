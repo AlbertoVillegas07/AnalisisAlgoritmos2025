{
 "cells": [
  {
   "cell_type": "markdown",
   "id": "c58d2903-983c-4fad-b8b9-208ee630ffc2",
   "metadata": {},
   "source": [
    "# 2A. Reporte escrito. Experimentos y análisis de estructuras de datos.\n",
    "José Alberto Villegas Díaz Disciplina"
   ]
  },
  {
   "cell_type": "markdown",
   "id": "c578ad13",
   "metadata": {},
   "source": [
    "# Lista de cambios:\n",
    "\n",
    "Sin cambios. Esta entrega se calificó con la nota más alta."
   ]
  },
  {
   "cell_type": "markdown",
   "id": "c17fa647-80e9-471e-915e-f4f57c4f8532",
   "metadata": {},
   "source": [
    "# Introducción\n",
    "\n",
    "En este reporte, se lleva a cabo un análisis exhaustivo de dos algoritmos de álgebra lineal aplicados sobre matrices: la multiplicación de matrices y la eliminación gaussiana.El objetivo principal de este reporte es implementar y analizar el desempeño de ambos algoritmos al trabajar con matrices aleatorias de tamaño $nxn$ para valores de $n=100,300, 1000$. Para evaluar de manera rigurosa su eficiencia, se compararán los resultados en términos del número de operaciones requeridas y el tiempo real de ejecución para cada algoritmo. La elección de estos parámetros permitirá observar cómo cada uno de estos algoritmos escala con el tamaño de las matrices, proporcionando así una visión clara de sus ventajas y limitaciones bajo diferentes condiciones.\n"
   ]
  },
  {
   "cell_type": "markdown",
   "id": "a9d1d800-5e3b-47ad-95e6-a5061fbaabf8",
   "metadata": {},
   "source": [
    "# Algoritmo para multiplicación de matrices aleatorias de tamaño $n×n$\n",
    "\n",
    "En primera instancia crearemos dos funciones, una para la generación de matrices aleatorias de tamaño $nxn$ y otra implementando un algoritmo convencional para la multiplicación de las mismas. \n",
    "\n",
    "La definición dada por Grossman & Flores (2012), de producto de matrices establece: \n",
    "\n",
    "Sea $A = (a_{ij})$ una matriz de dimensión $m \\times n$, y sea $B = (b_{ij})$ una matriz de dimensión $n \\times p$. Entonces el producto de $A$ y $B$ es una matriz $C = (c_{ij})$ de dimensión $m \\times p$, en donde\n",
    "\n",
    "$$\n",
    "c_{ij} = (\\text{renglón } i \\text{ de } A) \\cdot (\\text{columna } j \\text{ de } B) \n",
    "$$\n",
    "\n",
    "Es decir, el elemento $c_{ij}$ de $AB$ es el producto punto del renglón $i$ de $A$ y la columna $j$ de $B$. Si esto se extiende, se obtiene\n",
    "\n",
    "$$\n",
    "c_{ij} = a_{i1}b_{1j} + a_{i2}b_{2j} + \\cdots + a_{in}b_{nj} \n",
    "$$\n",
    "\n",
    "Si el número de columnas de $A$ es igual al número de renglones de $B$, entonces se dice que $A$ y $B$ son compatibles bajo la multiplicación.\n",
    "\n",
    "Bajo ese esquema teórico se realizara el algoritmo. \n"
   ]
  },
  {
   "cell_type": "markdown",
   "id": "68b0357f-cb03-4759-98a3-e565f6855a05",
   "metadata": {},
   "source": [
    "## Definición y prueba del algoritmo"
   ]
  },
  {
   "cell_type": "code",
   "execution_count": 23,
   "id": "ae118ca7-cc24-468b-9dd6-e9c10ecd246f",
   "metadata": {},
   "outputs": [
    {
     "data": {
      "text/plain": [
       "multiplicar_matrices (generic function with 1 method)"
      ]
     },
     "execution_count": 23,
     "metadata": {},
     "output_type": "execute_result"
    }
   ],
   "source": [
    "# Función para matrices aleatorias de tamaño n x n\n",
    "function generar_matriz_aleatoria(n)\n",
    "    return rand(n, n)  # Matriz con números aleatorios entre 0 y 1\n",
    "end\n",
    "\n",
    "# Función en la que se implementa un algoritmo convencional para el producto de matrices\n",
    "function multiplicar_matrices(A, B)\n",
    "    n = size(A, 1)  #A y B son de tamaño n x n\n",
    "    C = zeros(n, n)  # Matriz resultado en la que se asignarán los valores de cij\n",
    "    operaciones = 0  # Contador de operaciones\n",
    "\n",
    "    # Algoritmo de multiplicación de matrices convencional\n",
    "    for i in 1:n\n",
    "        for j in 1:n\n",
    "            suma = 0  # Variable para la suma en la posición (i, j)\n",
    "            for k in 1:n\n",
    "                suma += A[i, k] * B[k, j]  # Multiplicación y suma\n",
    "                operaciones += 1  # Contamos cada multiplicación\n",
    "            end\n",
    "            C[i, j] = suma  # Asignamos el valor a la matriz resultado\n",
    "        end\n",
    "    end\n",
    "\n",
    "    return C, operaciones  # Retorna la matriz resultado y el número de operaciones\n",
    "end"
   ]
  },
  {
   "cell_type": "markdown",
   "id": "bc638208-f5af-4f82-8813-db3b3a93f030",
   "metadata": {},
   "source": [
    "Una vez definidas las funciones podemos realizar una validación simple para matrices pequeñas de orden 3x3.  "
   ]
  },
  {
   "cell_type": "code",
   "execution_count": 24,
   "id": "7a7ef250-02d0-41a9-922b-2408d3ea60f9",
   "metadata": {},
   "outputs": [
    {
     "name": "stdout",
     "output_type": "stream",
     "text": [
      "Matriz A:\n",
      "[0.48776183234824144 0.6124433790334284 0.028635546875128703; 0.8370848622572715 0.7473292661917925 0.9877981495667337; 0.9735150429578445 0.19481858305396282 0.057932071864141954]\n",
      "Matriz B:\n",
      "[0.3442737221849198 0.8344937410238792 0.5451937807016894; 0.766291104724915 0.08561097205382118 0.6577453667078036; 0.9520486858842626 0.7301190823571463 0.9768559577402947]\n",
      "Matriz C (Resultado):\n",
      "[0.664495929835295 0.48037342841918884 0.696729316958151; 1.8012900205112459 1.483731941698228 1.9128623305140917; 0.539597547560282 0.8713681295588075 0.7154866567372042]\n",
      "Número de operaciones realizadas: 27\n"
     ]
    }
   ],
   "source": [
    "# Validación de uso con matrices 3x3\n",
    "n = 3  # Tamaño de la matriz\n",
    "A = generar_matriz_aleatoria(n)\n",
    "B = generar_matriz_aleatoria(n)\n",
    "\n",
    "# Multiplicación de matrices\n",
    "C, operaciones = multiplicar_matrices(A, B)\n",
    "\n",
    "# Mostrar el resultado\n",
    "\n",
    "println(\"Matriz A:\")\n",
    "println(A)\n",
    "println(\"Matriz B:\")\n",
    "println(B)\n",
    "println(\"Matriz C (Resultado):\")\n",
    "println(C)\n",
    "\n",
    "# Mostrar el número de operaciones realizadas\n",
    "println(\"Número de operaciones realizadas: $operaciones\")"
   ]
  },
  {
   "cell_type": "markdown",
   "id": "f0ed9a37-59b3-4718-996b-94bb34b7cad0",
   "metadata": {},
   "source": [
    "Los algoritmos mostraron un correcto funcionamiento por lo que se procederá a evaluar para los distintos valores de $n$. Nótese que para esta validación se imprimieron las matrices, esto no es viable en los siguientes casos debido al tamaño de las entradas. "
   ]
  },
  {
   "cell_type": "markdown",
   "id": "ca0dcbbc-5ff8-4a5e-bfcb-a37d54279f0e",
   "metadata": {},
   "source": [
    "## Evaluación para $n=100$"
   ]
  },
  {
   "cell_type": "code",
   "execution_count": 25,
   "id": "22283310-2861-41e8-839b-c821c5b4df18",
   "metadata": {},
   "outputs": [
    {
     "name": "stdout",
     "output_type": "stream",
     "text": [
      "Número de operaciones realizadas: 1000000\n"
     ]
    }
   ],
   "source": [
    "# Validación de uso con matrices 100x100\n",
    "n = 100  # Tamaño de la matriz\n",
    "A = generar_matriz_aleatoria(n)\n",
    "B = generar_matriz_aleatoria(n)\n",
    "\n",
    "# Multiplicación de matrices\n",
    "C, operaciones = multiplicar_matrices(A, B)\n",
    "# Mostrar el número de operaciones realizadas\n",
    "println(\"Número de operaciones realizadas: $operaciones\")"
   ]
  },
  {
   "cell_type": "markdown",
   "id": "6c8995b9-0e10-46b2-80f6-a7233044f539",
   "metadata": {},
   "source": [
    "Se puede observar que el número de operaciones realizadas cuando $n=100$ es de 1,000,000 es decir $100^3$"
   ]
  },
  {
   "cell_type": "code",
   "execution_count": 26,
   "id": "0abb56a8-4cdc-4279-95d7-0d8fae57c940",
   "metadata": {},
   "outputs": [
    {
     "name": "stdout",
     "output_type": "stream",
     "text": [
      "  825.900 μs (4 allocations: 78.23 KiB)\n"
     ]
    },
    {
     "data": {
      "text/plain": [
       "([28.132338392688823 23.908113166359033 … 25.024304177684872 25.7096938977009; 26.667022471404753 23.660024037205346 … 24.639590229379817 26.44517290558687; … ; 26.002885424023155 22.99216990611572 … 23.492611418137535 24.916168129409794; 27.243874373771543 25.87820795626854 … 26.581182371428145 26.91368518219324], 1000000)"
      ]
     },
     "execution_count": 26,
     "metadata": {},
     "output_type": "execute_result"
    }
   ],
   "source": [
    "using BenchmarkTools\n",
    "@btime multiplicar_matrices(A, B)"
   ]
  },
  {
   "cell_type": "markdown",
   "id": "b74c3e0a-d350-4bac-8a39-7d4239bbafbe",
   "metadata": {},
   "source": [
    "## Evaluación para $n=300$"
   ]
  },
  {
   "cell_type": "code",
   "execution_count": 27,
   "id": "25b2e1e0-8259-43d1-8cec-8bcc69462fa5",
   "metadata": {},
   "outputs": [
    {
     "name": "stdout",
     "output_type": "stream",
     "text": [
      "Número de operaciones realizadas: 27000000\n"
     ]
    }
   ],
   "source": [
    "# Validación de uso con matrices 100x100\n",
    "n = 300  # Tamaño de la matriz\n",
    "A = generar_matriz_aleatoria(n)\n",
    "B = generar_matriz_aleatoria(n)\n",
    "\n",
    "# Multiplicación de matrices\n",
    "C, operaciones = multiplicar_matrices(A, B)\n",
    "# Mostrar el número de operaciones realizadas\n",
    "println(\"Número de operaciones realizadas: $operaciones\")"
   ]
  },
  {
   "cell_type": "markdown",
   "id": "932ef7da-930d-48c4-8cdf-e1d2eb00909c",
   "metadata": {},
   "source": [
    "Se puede observar que el número de operaciones realizadas cuando $n=300$ es de 27,000,000 es decir $300^3$"
   ]
  },
  {
   "cell_type": "code",
   "execution_count": 28,
   "id": "39a86cd3-6698-4be5-9c0c-9ff1bd28ac06",
   "metadata": {},
   "outputs": [
    {
     "name": "stdout",
     "output_type": "stream",
     "text": [
      "  23.998 ms (4 allocations: 703.23 KiB)\n"
     ]
    },
    {
     "data": {
      "text/plain": [
       "([80.53091461158125 77.91382521022068 … 78.23327276120801 77.15153895643374; 71.37048085506102 70.54930640968472 … 67.77446808097446 69.81725780702683; … ; 78.54949084586757 74.26211081012234 … 74.54586378001189 75.42220879028378; 72.79998868719915 72.28643983521658 … 71.78528089018043 70.06249995014716], 27000000)"
      ]
     },
     "execution_count": 28,
     "metadata": {},
     "output_type": "execute_result"
    }
   ],
   "source": [
    "using BenchmarkTools\n",
    "@btime multiplicar_matrices(A, B)"
   ]
  },
  {
   "cell_type": "markdown",
   "id": "55e47956-5da5-40e8-afe8-79f5dee98e56",
   "metadata": {},
   "source": [
    "Podemos observar que el tiempo en el que incrementó fue apróximadamente de un orden más respecto de $n=100$ y el número de asignaciones permanece constante"
   ]
  },
  {
   "cell_type": "markdown",
   "id": "e8bdb279-ce7b-4fc4-8ba7-1a1ed82e09a2",
   "metadata": {},
   "source": [
    "## Evaluación para $n=1000$"
   ]
  },
  {
   "cell_type": "code",
   "execution_count": 29,
   "id": "a8175b67-a891-4ca8-bff8-e8ce56156aef",
   "metadata": {},
   "outputs": [
    {
     "name": "stdout",
     "output_type": "stream",
     "text": [
      "Número de operaciones realizadas: 1000000000\n"
     ]
    }
   ],
   "source": [
    "# Validación de uso con matrices 1000x1000\n",
    "n = 1000  # Tamaño de la matriz\n",
    "A = generar_matriz_aleatoria(n)\n",
    "B = generar_matriz_aleatoria(n)\n",
    "\n",
    "# Multiplicación de matrices\n",
    "C, operaciones = multiplicar_matrices(A, B)\n",
    "# Mostrar el número de operaciones realizadas\n",
    "println(\"Número de operaciones realizadas: $operaciones\")"
   ]
  },
  {
   "cell_type": "markdown",
   "id": "95f1b071-2dae-4618-8eee-85b454fd147e",
   "metadata": {},
   "source": [
    "Se puede observar que el número de operaciones realizadas cuando $n=1000$ es de 1,000,000,000 es decir $1000^3$"
   ]
  },
  {
   "cell_type": "code",
   "execution_count": 30,
   "id": "f194fd45-aeaa-4624-b24a-cf64e7923de1",
   "metadata": {},
   "outputs": [
    {
     "name": "stdout",
     "output_type": "stream",
     "text": [
      "  1.331 s (4 allocations: 7.63 MiB)\n"
     ]
    },
    {
     "data": {
      "text/plain": [
       "([252.28375919010392 256.163478843609 … 255.81051340050507 252.5790668154193; 245.61903803038666 244.96190533494607 … 244.73860377052003 243.5577681299076; … ; 249.72986247348513 252.9162720651867 … 252.232903123629 244.19782743234276; 264.62505711595907 257.55400576599106 … 260.0656411956669 253.25510157969072], 1000000000)"
      ]
     },
     "execution_count": 30,
     "metadata": {},
     "output_type": "execute_result"
    }
   ],
   "source": [
    "using BenchmarkTools\n",
    "@btime multiplicar_matrices(A, B)"
   ]
  },
  {
   "cell_type": "markdown",
   "id": "d456da5b-e203-4292-93f5-a717526fe6be",
   "metadata": {},
   "source": [
    "Podemos observar que el tiempo en el que incrementó fue apróximadamente de un orden más respecto de $n=300$ y el número de asignaciones permanece constante"
   ]
  },
  {
   "cell_type": "markdown",
   "id": "414bd65c-bce8-4ea4-ab3e-ad39445856d2",
   "metadata": {},
   "source": [
    "## Experimento para matrices dispersas"
   ]
  },
  {
   "cell_type": "code",
   "execution_count": 31,
   "id": "a20f1f5d-da35-43f2-a32b-8127873830c4",
   "metadata": {},
   "outputs": [
    {
     "name": "stdout",
     "output_type": "stream",
     "text": [
      "Número de operaciones realizadas: 1000000000\n"
     ]
    }
   ],
   "source": [
    "using SparseArrays\n",
    "\n",
    "A = sprand(1000, 1000, 0.01)  # Matriz 1000x1000 con 1% de elementos no ceros\n",
    "B = sprand(1000, 1000, 0.01)\n",
    "# Multiplicación de matrices\n",
    "C, operaciones = multiplicar_matrices(A, B)\n",
    "# Mostrar el número de operaciones realizadas\n",
    "println(\"Número de operaciones realizadas: $operaciones\")\n"
   ]
  },
  {
   "cell_type": "code",
   "execution_count": 32,
   "id": "24914007-26a2-4baa-bafb-90b9d658c916",
   "metadata": {},
   "outputs": [
    {
     "name": "stdout",
     "output_type": "stream",
     "text": [
      "  21.248 s (4 allocations: 7.63 MiB)\n"
     ]
    },
    {
     "data": {
      "text/plain": [
       "([0.0 0.5179738303041588 … 0.0 0.0; 0.0 0.0 … 0.0 0.28833088395964407; … ; 0.0 0.0 … 0.0 0.0; 0.0 0.0 … 0.0 0.0], 1000000000)"
      ]
     },
     "execution_count": 32,
     "metadata": {},
     "output_type": "execute_result"
    }
   ],
   "source": [
    "using BenchmarkTools\n",
    "@btime multiplicar_matrices(A, B)"
   ]
  },
  {
   "cell_type": "markdown",
   "id": "aa845277-7741-4d0f-8639-d0341e64b577",
   "metadata": {},
   "source": [
    "Se observa que para $n=1000$ el tiempo de ejecución incrementa en un orden. Las asignaciones son constantes"
   ]
  },
  {
   "cell_type": "markdown",
   "id": "b3a69819-063e-4524-81bb-7e3bd3324fee",
   "metadata": {},
   "source": [
    "# Algortimo para Eliminación gaussiana / Gauss-Jordan para matrices aleatorias de tamaño $n×n$\n",
    "\n",
    "## Definición y prueba del algoritmo\n",
    "\n",
    "En algebra lineal una de las aplicaciones del método de Gauss Jordan es su uso para encontrar la inversa de una matriz invertible $nxn$, para lo cual el primer paso es agregar una matriz identidad a la derecha de la matriz inverible en forma de matriz aumentada y resolver el sistema por el método de Gauss Jordan. De acuerdo a Grossman & Flores (2012), el método para realizar Gauss-Jordan con pivoteo consiste en:\n",
    "\n",
    "1. Escribir el sistema en la forma de matriz aumentada. De la primer columna con componentes diferentes de cero (denominada columna pivote), seleccione la componente con el valor absoluto. Esta componente se denomina pivote:\n",
    "2. Reacomodar los renglones para mover el pivote hasta arriba:\n",
    "3. Dividir el primer renglón entre el pivote:\n",
    "4. Sumar múltiplos del primer renglón a los otros renglones para hacer cero todas las componentes de la columna pivote:\n",
    "5. Tapar el primer renglón y realice los pasos 1 al 4 en la submatriz que resulta:\n",
    "6. Continuar de esta manera hasta que la matriz esté en la forma escalonada por renglones.\n",
    "7. Resolver el sistema\n",
    "\n",
    "Bajo este esquema se implementará el algoritmo."
   ]
  },
  {
   "cell_type": "markdown",
   "id": "faa5e2fd-f722-403c-95a6-ff5508e084f7",
   "metadata": {},
   "source": [
    "## Definición y prueba del algoritmo\n",
    "  "
   ]
  },
  {
   "cell_type": "code",
   "execution_count": 33,
   "id": "96e50c62-ce71-4cbd-8bf3-c48f4b9b17b5",
   "metadata": {},
   "outputs": [
    {
     "data": {
      "text/plain": [
       "gauss_jordan (generic function with 1 method)"
      ]
     },
     "execution_count": 33,
     "metadata": {},
     "output_type": "execute_result"
    }
   ],
   "source": [
    "using LinearAlgebra \n",
    "\n",
    "# Crear una matriz aleatoria invertible de tamaño n x n\n",
    "function generar_matriz_invertible(n)\n",
    "    while true\n",
    "        A = rand(n, n)  # Generamos una matriz aleatoria\n",
    "        if det(A) != 0   # Verificamos que sea invertible\n",
    "            return A\n",
    "        end\n",
    "    end\n",
    "end\n",
    "\n",
    "function gauss_jordan(A)\n",
    "    n = size(A, 1)  # Tamaño de la matriz (nxn)\n",
    "    operaciones = 0  # Contador de operaciones\n",
    "\n",
    "    # Convertimos A en una matriz aumentada con la identidad (para calcular la inversa)\n",
    "    A = hcat(A, Matrix(I, n, n))  # Agregamos la matriz identidad a la derecha para expresarla en forma de matriz aumentada\n",
    "\n",
    "    # Eliminación hacia adelante\n",
    "    for i in 1:n\n",
    "        # Pivoteo parcial (si es necesario)\n",
    "        max = argmax(abs.(A[i:n, i])) + (i - 1)  # Encuentra el máximo en la columna\n",
    "        if max != i\n",
    "            A[i, :], A[max, :] = A[max, :], A[i, :]  # Intercambia filas\n",
    "            operaciones += n  # Contamos el intercambio de filas\n",
    "        end\n",
    "\n",
    "        # Normalizar el pivote a 1\n",
    "        pivote = A[i, i]\n",
    "        A[i, :] /= pivote\n",
    "        operaciones += n  # División de toda la fila\n",
    "\n",
    "        # Eliminación de los elementos debajo y arriba del pivote\n",
    "        for j in 1:n\n",
    "            if j != i  # Evitar la fila del pivote\n",
    "                factor = A[j, i]\n",
    "                A[j, :] -= factor * A[i, :]\n",
    "                operaciones += n  # Contamos la operación de eliminación\n",
    "            end\n",
    "        end\n",
    "    end\n",
    "\n",
    "    # La parte derecha de A ahora es la matriz inversa\n",
    "    return A[:, n+1:end], operaciones\n",
    "end\n"
   ]
  },
  {
   "cell_type": "markdown",
   "id": "e01b1ed8-ff91-4f4e-a0d4-0700041a1458",
   "metadata": {},
   "source": [
    "Una vez definidas las funciones podemos realizar una validación simple para una matriz pequeña de orden 3x3.  "
   ]
  },
  {
   "cell_type": "code",
   "execution_count": 47,
   "id": "f44de6b4-098f-413d-a4d8-31418abd7555",
   "metadata": {},
   "outputs": [
    {
     "name": "stdout",
     "output_type": "stream",
     "text": [
      "Matriz A:\n",
      "[0.7176888293553598 0.1159503346927897 0.7824477172960047; 0.26816290254571196 0.5436422839447754 0.09663661895942965; 0.5776198687754796 0.502034634542894 0.6842905799728082]\n",
      "Matriz Inversa A^-1:\n",
      "[4.201278869398719 4.071118358154523 -5.378855536411074; -1.6582303726782912 0.5084526591919578 1.8242884828509491; -2.32978959049701 -3.809521529362638 4.663337360923403]\n",
      "Número de operaciones realizadas: 27\n"
     ]
    }
   ],
   "source": [
    "# Prueba con una matriz 3x3\n",
    "n = 3\n",
    "A = generar_matriz_invertible(n)\n",
    "\n",
    "# Aplicamos Gauss-Jordan para encontrar la inversa\n",
    "A_inv, operaciones = gauss_jordan(A)\n",
    "\n",
    "# Mostrar resultados\n",
    "println(\"Matriz A:\")\n",
    "println(A)\n",
    "println(\"Matriz Inversa A^-1:\")\n",
    "println(A_inv)\n",
    "println(\"Número de operaciones realizadas: $operaciones\")"
   ]
  },
  {
   "cell_type": "markdown",
   "id": "7f4c5074-8b74-4854-87e5-b0712ac2078f",
   "metadata": {},
   "source": [
    "Se corrobora que el algoritmo funciona correctamente. También desde este momento podemos observar que el número de operaciones realizadas para $n=3$ es de 27, es decir $3^3$"
   ]
  },
  {
   "cell_type": "markdown",
   "id": "66636bac-6ccc-4507-bcc9-78b365dca8db",
   "metadata": {},
   "source": [
    "## Evaluación para $n=100$"
   ]
  },
  {
   "cell_type": "code",
   "execution_count": 35,
   "id": "ef47fc16-9ac6-4443-b51b-884dc60c52a7",
   "metadata": {},
   "outputs": [
    {
     "name": "stdout",
     "output_type": "stream",
     "text": [
      "Número de operaciones realizadas: 1009600\n"
     ]
    }
   ],
   "source": [
    "# Experimento para n=100\n",
    "n = 100\n",
    "A = generar_matriz_invertible(n)\n",
    "A_inv, operaciones = gauss_jordan(A)\n",
    "println(\"Número de operaciones realizadas: $operaciones\")"
   ]
  },
  {
   "cell_type": "markdown",
   "id": "37d9935d-979d-40e1-b866-d0dac132c532",
   "metadata": {},
   "source": [
    "Se puede observar que el número de operaciones realizadas cuando $n=100$ es de apróximadamente 1,000,000 es decir $100^3$"
   ]
  },
  {
   "cell_type": "code",
   "execution_count": 36,
   "id": "b57ff0ea-212f-459d-95e0-41d9976e782b",
   "metadata": {},
   "outputs": [
    {
     "name": "stdout",
     "output_type": "stream",
     "text": [
      "  7.225 ms (80394 allocations: 63.79 MiB)\n"
     ]
    },
    {
     "data": {
      "text/plain": [
       "([0.28970373469019167 -0.17420484581562626 … 0.27307472669636884 -0.3588290552142628; 0.11215087930590079 -0.25156162543991023 … 0.14969481586464503 -0.4030287746902638; … ; -0.0754963833616388 -0.10535739685169299 … 0.078313017746731 -0.22571431989707574; -0.04624036046053944 0.34960007812129645 … 0.02804706715744275 -0.30342600533361846], 1009600)"
      ]
     },
     "execution_count": 36,
     "metadata": {},
     "output_type": "execute_result"
    }
   ],
   "source": [
    "using BenchmarkTools\n",
    "@btime gauss_jordan(A)"
   ]
  },
  {
   "cell_type": "markdown",
   "id": "e372fa23-a77f-4fbb-8997-f2b20d9da728",
   "metadata": {},
   "source": [
    "## Evaluación para $n=300$"
   ]
  },
  {
   "cell_type": "code",
   "execution_count": 37,
   "id": "85857941-540a-48f7-9b3c-8f08ac4aeb5e",
   "metadata": {},
   "outputs": [
    {
     "name": "stdout",
     "output_type": "stream",
     "text": [
      "Número de operaciones realizadas: 27087900\n"
     ]
    }
   ],
   "source": [
    "# Experimento para n=300\n",
    "n = 300\n",
    "A = generar_matriz_invertible(n)\n",
    "A_inv, operaciones = gauss_jordan(A)\n",
    "println(\"Número de operaciones realizadas: $operaciones\")"
   ]
  },
  {
   "cell_type": "markdown",
   "id": "dec6938d-8892-49a5-a148-6d262aab2c5b",
   "metadata": {},
   "source": [
    "Se puede observar que el número de operaciones realizadas cuando $n=300$ es de apróximadamente 27,000,000 es decir $100^3$"
   ]
  },
  {
   "cell_type": "code",
   "execution_count": 38,
   "id": "f7e47d94-ef99-4dd1-bb42-1379f9e26583",
   "metadata": {},
   "outputs": [
    {
     "name": "stdout",
     "output_type": "stream",
     "text": [
      "  332.074 ms (1081266 allocations: 1.63 GiB)\n"
     ]
    },
    {
     "data": {
      "text/plain": [
       "([0.2446861370288894 0.2603838908496686 … 0.9280233428073322 0.09375809661532152; 0.1298458317229163 0.12987395132258728 … 0.35016998210347056 0.01506863357009279; … ; 0.13790527314543724 0.35112067320686813 … 0.026894330076987827 -0.13166694676382443; 0.07039322841938805 -0.06504029318774748 … 0.5015589283627557 0.039208192096636965], 27087900)"
      ]
     },
     "execution_count": 38,
     "metadata": {},
     "output_type": "execute_result"
    }
   ],
   "source": [
    "using BenchmarkTools\n",
    "@btime gauss_jordan(A)"
   ]
  },
  {
   "cell_type": "markdown",
   "id": "c0947094-8e4b-4e91-ac75-e94b0c539f00",
   "metadata": {},
   "source": [
    "El tiempo de ejecución aumenta aproximadamente en dos órdenes respecto a $n=100$ lo mismo sucede para las asignaciones "
   ]
  },
  {
   "cell_type": "markdown",
   "id": "4ba707e5-3b13-42e1-9674-94c36c4857e0",
   "metadata": {},
   "source": [
    "## Evaluación para $n=1000$"
   ]
  },
  {
   "cell_type": "code",
   "execution_count": 39,
   "id": "ebf1c18f-22ec-48ef-a919-e4f9dd878ead",
   "metadata": {},
   "outputs": [
    {
     "name": "stdout",
     "output_type": "stream",
     "text": [
      "Número de operaciones realizadas: 1000994000\n"
     ]
    }
   ],
   "source": [
    "# Experimento para n=1000\n",
    "n = 1000\n",
    "A = generar_matriz_invertible(n)\n",
    "A_inv, operaciones = gauss_jordan(A)\n",
    "println(\"Número de operaciones realizadas: $operaciones\")"
   ]
  },
  {
   "cell_type": "markdown",
   "id": "88515121-48bc-4c23-bcd1-70c108299975",
   "metadata": {},
   "source": [
    "Se puede observar que el número de operaciones realizadas cuando $n=1000$ es de apróximadamente 1,000,000,000 es decir $1000^3$"
   ]
  },
  {
   "cell_type": "code",
   "execution_count": 40,
   "id": "cc1df34d-08d9-4730-b1e9-1e3607889585",
   "metadata": {},
   "outputs": [
    {
     "name": "stdout",
     "output_type": "stream",
     "text": [
      "  30.021 s (12005472 allocations: 59.87 GiB)\n"
     ]
    },
    {
     "data": {
      "text/plain": [
       "([0.047490859301975295 -0.060854470450899374 … -0.12558169672686376 0.1434304526853882; -0.1200956782253656 -0.428885355426993 … -0.013085833224851684 0.30326859892872826; … ; 1.7067673603290574 1.0086591100969922 … -0.831195709124633 -0.3635885587092932; 1.237672201837348 0.8858751875164227 … -0.7664065225726228 -0.16137824678541648], 1000994000)"
      ]
     },
     "execution_count": 40,
     "metadata": {},
     "output_type": "execute_result"
    }
   ],
   "source": [
    "using BenchmarkTools\n",
    "@btime gauss_jordan(A)"
   ]
  },
  {
   "cell_type": "markdown",
   "id": "7309cc90-14de-43ce-a8a0-f8300f683126",
   "metadata": {},
   "source": [
    "El tiempo de ejecución aumenta aproximadamente en dos órdenes respecto a $n=300$ las asignaciones incrementan en un orden"
   ]
  },
  {
   "cell_type": "markdown",
   "id": "b4e59d57-b246-41d2-8643-0549d6f8ed9d",
   "metadata": {},
   "source": [
    "## Experimento para matrices dispersas\n",
    "\n",
    "Bajor la misma lógica que se evaluó este algoritmo se generará una matriz dispersa tamaño $nxn$ que sea invertible."
   ]
  },
  {
   "cell_type": "code",
   "execution_count": 41,
   "id": "cf69cce5-c482-46a8-86fe-a4583618fcd3",
   "metadata": {},
   "outputs": [
    {
     "data": {
      "text/plain": [
       "generar_matriz_invertible_dispersada (generic function with 1 method)"
      ]
     },
     "execution_count": 41,
     "metadata": {},
     "output_type": "execute_result"
    }
   ],
   "source": [
    "using SparseArrays, LinearAlgebra\n",
    "\n",
    "function generar_matriz_invertible_dispersada(n::Int, densidad::Float64)\n",
    "    # Primero generamos una matriz dispersa aleatoria de tamaño n x n\n",
    "    A = sprandn(n, n, 0.01)\n",
    "\n",
    "    # Hacemos la matriz simétrica A = A + A^T para asegurar que sea simétrica\n",
    "    A = A + transpose(A)\n",
    "\n",
    "    # Añadimos una constante al diagonal para asegurar que sea positiva definida\n",
    "    # Esto ayuda a evitar que tenga autovalores no positivos\n",
    "    for i in 1:n\n",
    "        A[i,i] += n  # Incrementamos la diagonal para garantizar la positividad\n",
    "    end\n",
    "\n",
    "    # A es ahora simétrica y positiva definida, y como es dispersa, debería ser invertible\n",
    "    return A\n",
    "end"
   ]
  },
  {
   "cell_type": "code",
   "execution_count": 44,
   "id": "b60cc8d9-cec5-420d-97de-d3363c0834b3",
   "metadata": {},
   "outputs": [
    {
     "name": "stdout",
     "output_type": "stream",
     "text": [
      "Número de operaciones realizadas: 1000987000\n"
     ]
    }
   ],
   "source": [
    "# Experimento para n=1000\n",
    "n = 1000\n",
    "A = generar_matriz_invertible(n)\n",
    "A_inv, operaciones = gauss_jordan(A)\n",
    "println(\"Número de operaciones realizadas: $operaciones\")"
   ]
  },
  {
   "cell_type": "markdown",
   "id": "5a663e69-aa85-4eda-a911-65c65adfe475",
   "metadata": {},
   "source": [
    "Observarmos que el número de operaciones continua siendo aproximadamente $n^3$"
   ]
  },
  {
   "cell_type": "code",
   "execution_count": 45,
   "id": "136bb46d-47b2-47aa-8727-16ecd7a968e3",
   "metadata": {},
   "outputs": [
    {
     "name": "stdout",
     "output_type": "stream",
     "text": [
      "  31.942 s (12005430 allocations: 59.87 GiB)\n"
     ]
    },
    {
     "data": {
      "text/plain": [
       "([-0.286088270150775 -0.04415745714555952 … -0.02341198529697472 -0.060345876344513556; -0.6395347509959397 0.20227489477122187 … 0.015799245413789784 -0.0076372936972852745; … ; -0.10946769430792393 0.008548864678396426 … -0.007695531472638406 -0.08864286022847348; -0.21194227741102356 0.08071600512590583 … 0.009539117934955094 -0.04134071560159264], 1000987000)"
      ]
     },
     "execution_count": 45,
     "metadata": {},
     "output_type": "execute_result"
    }
   ],
   "source": [
    "using BenchmarkTools\n",
    "@btime gauss_jordan(A)"
   ]
  },
  {
   "cell_type": "markdown",
   "id": "03b534d4-c4da-4033-98e7-487945157347",
   "metadata": {},
   "source": [
    "No se notó una diferencia significativa en tiempo de ejecución ni en asignaciones"
   ]
  },
  {
   "cell_type": "markdown",
   "id": "88b30fa3-5377-447e-8f31-a11c624b68e2",
   "metadata": {},
   "source": [
    "# Discusión y conclusiones\n",
    "\n",
    "Del experimento podemos concluir que el orden de crecimiento para el algoritmo del método tradicional de multiplicación de matrices como para el algoritmo de eliminación gaussiana es de $O(n^3)$. Este resultado es previsible ya que está bien documentado. Sin embargo, se debe apuntar que para los algoritmos de multiplicación de matrices el mínimo exponente para multiplicar matrices $nxn$ oscila entre 2 y 3 (Anderson & Barman, 2009) y al día de hoy existen múltiples algoritmos, de un orden menor al tradicional, siendo uno de los más conocidos el algoritmo de Strassen (1969) de orden $O(n^{2.81})$, el cual se basa en el método de \"Divide y vencerás\" (Cormen et al. 2022). Sin embargo estos algoritmos van más allá del alcance de este reporte. \n",
    "\n",
    "Si bien ambos algoritmos poseen un orden de crecimiento igual, el algoritmo de eliminación gaussiana, plantea una problemática adicional que es el número de asignaciones, estas son muy altas lo que se interpreta como que Julia está creando múltiples copias de matrices, mientras que en el algoritmo de multiplicación de matrices se aprecia un número de asignaciones constante. Esta discrepacia en los algoritmos afecta directamente los tiempos de ejecución los costos en memoria para el algoritmo de eliminación gaussiana. \n",
    "\n",
    "Finalmente el experimento haciendo uso de matrices dispersas demostró que el tiempo de ejecución fue  mayor para una misma entrada $n=1000$, para el algoritmo de multiplicación de matrices, mientras que para el algoritmo de eliminación gaussiana no demostró diferencias significativas. \n",
    "\n",
    "## ¿Cuál es el impacto de acceder los elementos contiguos en memoria de una matriz?\n",
    "\n",
    "El acceso a los elementos contiguos en memoria de una matriz podría tener un impacto significativo en los tiempos de ejecución de los algoritmos.Cuando accedes a elementos contiguos en memoria (por ejemplo, en un orden fila-por-fila o columna-por-columna), se puede aprovechar la memoria caché, para acceder a estos y que no tengan que ser cargados desde la memoria principal, que es más lenta.\n",
    "\n",
    "## ¿Qué cambiarías si utilizas matrices dispersas? ¿Cuáles serían los costos?\n",
    "\n",
    "Como se pudo corroborar en los experimentos el uso de matrices dispersas se comportó distinto para cada algoritmo, para el de multiplicación incrementó los tiempos de ejecución, mientras que para el de eliminación gaussiana no tuvo diferencias considerables para $n=1000$"
   ]
  },
  {
   "cell_type": "markdown",
   "id": "3c2b5d65-715a-48a6-8cd7-2a0488a62f83",
   "metadata": {},
   "source": [
    "# Referencias\n",
    "\n",
    "Anderson, M., & Barman, S. (2009, diciembre 6). The Coppersmith-Winograd Matrix Multiplication Algorithm.\n",
    "\n",
    "Cormen, Thomas H.; Leiserson, Charles E.; Rivest, Ronald L.; Stein, Clifford (2022). Introduction to Algorithms (2nd ed.). MIT Press.\n",
    "\n",
    "Grossman, S. I., & Flores, J. J. (2012). Álgebra lineal (7a ed.). McGraw-Hill.\n",
    "\n",
    "\n"
   ]
  },
  {
   "cell_type": "code",
   "execution_count": null,
   "id": "83c225df-42cc-4f03-a349-7a2c41612141",
   "metadata": {},
   "outputs": [],
   "source": []
  }
 ],
 "metadata": {
  "kernelspec": {
   "display_name": "Julia 1.11.3",
   "language": "julia",
   "name": "julia-1.11"
  },
  "language_info": {
   "file_extension": ".jl",
   "mimetype": "application/julia",
   "name": "julia",
   "version": "1.11.3"
  }
 },
 "nbformat": 4,
 "nbformat_minor": 5
}
